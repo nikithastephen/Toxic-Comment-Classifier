{
  "nbformat": 
  "nbformat_minor": 0,
  "metadata": 
    "colab": 
      "provenance": []
      "gpuType": "T4"
    
    "kernelspec": 
      "name": "python3"
      "display_name": "Python 3"
    }bbm
    "language_info": {
      "name": "python"
    },
    "widgets": {
      "application/vnd.jupyter.widget-state+json": {
        "8dc9df6b6bc84b00aed007c31ab893b1": {
          "model_module": "@jupyter-widgets/controls",
          "model_name": "HBoxModel",
          "model_module_version": "1.5.0",
          "state": {
            "_dom_classes": [],
            "_model_module": "@jupyter-widgets/controls",
            "_model_module_version": "1.5.0",
            "_model_name": "HBoxModel",
            "_view_count": null,
            "_view_module": "@jupyter-widgets/controls",
            "_view_module_version": "1.5.0",
            "_view_name": "HBoxView",
            "box_style": "",
            "children": [
              "IPY_MODEL_e41229c233cc43f29f2d73442e063898",
              "IPY_MODEL_13abd8070f744ea6b79e8c23d06b3e65",
              "IPY_MODEL_dd1f896bde754f9b968aec6bf7d8b66b"
            ],
            "layout": "IPY_MODEL_2013f82dd23643bfa6a5335a6d24a883"
          }
        },
        "e41229c233cc43f29f2d73442e063898": {
          "model_module": "@jupyter-widgets/controls",
          "model_name": "HTMLModel",
          "model_module_version": "1.5.0",
          "state": {
            "_dom_classes": [],
            "_model_module": "@jupyter-widgets/controls",
            "_model_module_version": "1.5.0",
            "_model_name": "HTMLModel",
            "_view_count": null,
            "_view_module": "@jupyter-widgets/controls",
            "_view_module_version": "1.5.0",
            "_view_name": "HTMLView",
            "description": "",
            "description_tooltip": null,
            "layout": "IPY_MODEL_130735a6079f4f18b79048cb83115161",
            "placeholder": "​",
            "style": "IPY_MODEL_50d15ea8c2d34d459d5fadbfa11d707c",
            "value": "tokenizer_config.json: 100%"
          }
        },
        "13abd8070f744ea6b79e8c23d06b3e65": {
          "model_module": "@jupyter-widgets/controls",
          "model_name": "FloatProgressModel",
          "model_module_version": "1.5.0",
          "state": {
            "_dom_classes": [],
            "_model_module": "@jupyter-widgets/controls",
            "_model_module_version": "1.5.0",
            "_model_name": "FloatProgressModel",
            "_view_count": null,
            "_view_module": "@jupyter-widgets/controls",
            "_view_module_version": "1.5.0",
            "_view_name": "ProgressView",
            "bar_style": "success",
            "description": "",
            "description_tooltip": null,
            "layout": "IPY_MODEL_8f25aafe0f55481bbe050dd469786c21",
            "max": 48,
            "min": 0,
            "orientation": "horizontal",
            "style": "IPY_MODEL_6300d570877347d186afb0936a98f70a",
            "value": 48
          }
        },
        "dd1f896bde754f9b968aec6bf7d8b66b": {
          "model_module": "@jupyter-widgets/controls",
          "model_name": "HTMLModel",
          "model_module_version": "1.5.0",
          "state": {
            "_dom_classes": [],
            "_model_module": "@jupyter-widgets/controls",
            "_model_module_version": "1.5.0",
            "_model_name": "HTMLModel",
            "_view_count": null,
            "_view_module": "@jupyter-widgets/controls",
            "_view_module_version": "1.5.0",
            "_view_name": "HTMLView",
            "description": "",
            "description_tooltip": null,
            "layout": "IPY_MODEL_d4ddbf9af5c544a2ac3bca06df976bde",
            "placeholder": "​",
            "style": "IPY_MODEL_c5f24ca491d14953add2a51eb8854503",
            "value": " 48.0/48.0 [00:00&lt;00:00, 2.72kB/s]"
          }
        },
        "2013f82dd23643bfa6a5335a6d24a883": {
          "model_module": "@jupyter-widgets/base",
          "model_name": "LayoutModel",
          "model_module_version": "1.2.0",
          "state": {
            "_model_module": "@jupyter-widgets/base",
            "_model_module_version": "1.2.0",
            "_model_name": "LayoutModel",
            "_view_count": null,
            "_view_module": "@jupyter-widgets/base",
            "_view_module_version": "1.2.0",
            "_view_name": "LayoutView",
            "align_content": null,
            "align_items": null,
            "align_self": null,
            "border": null,
            "bottom": null,
            "display": null,
            "flex": null,
            "flex_flow": null,
            "grid_area": null,
            "grid_auto_columns": null,
            "grid_auto_flow": null,
            "grid_auto_rows": null,
            "grid_column": null,
            "grid_gap": null,
            "grid_row": null,
            "grid_template_areas": null,
            "grid_template_columns": null,
            "grid_template_rows": null,
            "height": null,
            "justify_content": null,
            "justify_items": null,
            "left": null,
            "margin": null,
            "max_height": null,
            "max_width": null,
            "min_height": null,
            "min_width": null,
            "object_fit": null,
            "object_position": null,
            "order": null,
            "overflow": null,
            "overflow_x": null,
            "overflow_y": null,
            "padding": null,
            "right": null,
            "top": null,
            "visibility": null,
            "width": null
          }
        },
        "130735a6079f4f18b79048cb83115161": {
          "model_module": "@jupyter-widgets/base",
          "model_name": "LayoutModel",
          "model_module_version": "1.2.0",
          "state": {
            "_model_module": "@jupyter-widgets/base",
            "_model_module_version": "1.2.0",
            "_model_name": "LayoutModel",
            "_view_count": null,
            "_view_module": "@jupyter-widgets/base",
            "_view_module_version": "1.2.0",
            "_view_name": "LayoutView",
            "align_content": null,
            "align_items": null,
            "align_self": null,
            "border": null,
            "bottom": null,
            "display": null,
            "flex": null,
            "flex_flow": null,
            "grid_area": null,
            "grid_auto_columns": null,
            "grid_auto_flow": null,
            "grid_auto_rows": null,
            "grid_column": null,
            "grid_gap": null,
            "grid_row": null,
            "grid_template_areas": null,
            "grid_template_columns": null,
            "grid_template_rows": null,
            "height": null,
            "justify_content": null,
            "justify_items": null,
            "left": null,
            "margin": null,
            "max_height": null,
            "max_width": null,
            "min_height": null,
            "min_width": null,
            "object_fit": null,
            "object_position": null,
            "order": null,
            "overflow": null,
            "overflow_x": null,
            "overflow_y": null,
            "padding": null,
            "right": null,
            "top": null,
            "visibility": null,
            "width": null
          }
        },
        "50d15ea8c2d34d459d5fadbfa11d707c": {
          "model_module": "@jupyter-widgets/controls",
          "model_name": "DescriptionStyleModel",
          "model_module_version": "1.5.0",
          "state": {
            "_model_module": "@jupyter-widgets/controls",
            "_model_module_version": "1.5.0",
            "_model_name": "DescriptionStyleModel",
            "_view_count": null,
            "_view_module": "@jupyter-widgets/base",
            "_view_module_version": "1.2.0",
            "_view_name": "StyleView",
            "description_width": ""
          }
        },
        "8f25aafe0f55481bbe050dd469786c21": {
          "model_module": "@jupyter-widgets/base",
          "model_name": "LayoutModel",
          "model_module_version": "1.2.0",
          "state": {
            "_model_module": "@jupyter-widgets/base",
            "_model_module_version": "1.2.0",
            "_model_name": "LayoutModel",
            "_view_count": null,
            "_view_module": "@jupyter-widgets/base",
            "_view_module_version": "1.2.0",
            "_view_name": "LayoutView",
            "align_content": null,
            "align_items": null,
            "align_self": null,
            "border": null,
            "bottom": null,
            "display": null,
            "flex": null,
            "flex_flow": null,
            "grid_area": null,
            "grid_auto_columns": null,
            "grid_auto_flow": null,
            "grid_auto_rows": null,
            "grid_column": null,
            "grid_gap": null,
            "grid_row": null,
            "grid_template_areas": null,
            "grid_template_columns": null,
            "grid_template_rows": null,
            "height": null,
            "justify_content": null,
            "justify_items": null,
            "left": null,
            "margin": null,
            "max_height": null,
            "max_width": null,
            "min_height": null,
            "min_width": null,
            "object_fit": null,
            "object_position": null,
            "order": null,
            "overflow": null,
            "overflow_x": null,
            "overflow_y": null,
            "padding": null,
            "right": null,
            "top": null,
            "visibility": null,
            "width": null
          }
        },
        "6300d570877347d186afb0936a98f70a": {
          "model_module": "@jupyter-widgets/controls",
          "model_name": "ProgressStyleModel",
          "model_module_version": "1.5.0",
          "state": {
            "_model_module": "@jupyter-widgets/controls",
            "_model_module_version": "1.5.0",
            "_model_name": "ProgressStyleModel",
            "_view_count": null,
            "_view_module": "@jupyter-widgets/base",
            "_view_module_version": "1.2.0",
            "_view_name": "StyleView",
            "bar_color": null,
            "description_width": ""
          }
        },
        "d4ddbf9af5c544a2ac3bca06df976bde": {
          "model_module": "@jupyter-widgets/base",
          "model_name": "LayoutModel",
          "model_module_version": "1.2.0",
          "state": {
            "_model_module": "@jupyter-widgets/base",
            "_model_module_version": "1.2.0",
            "_model_name": "LayoutModel",
            "_view_count": null,
            "_view_module": "@jupyter-widgets/base",
            "_view_module_version": "1.2.0",
            "_view_name": "LayoutView",
            "align_content": null,
            "align_items": null,
            "align_self": null,
            "border": null,
            "bottom": null,
            "display": null,
            "flex": null,
            "flex_flow": null,
            "grid_area": null,
            "grid_auto_columns": null,
            "grid_auto_flow": null,
            "grid_auto_rows": null,
            "grid_column": null,
            "grid_gap": null,
            "grid_row": null,
            "grid_template_areas": null,
            "grid_template_columns": null,
            "grid_template_rows": null,
            "height": null,
            "justify_content": null,
            "justify_items": null,
            "left": null,
            "margin": null,
            "max_height": null,
            "max_width": null,
            "min_height": null,
            "min_width": null,
            "object_fit": null,
            "object_position": null,
            "order": null,
            "overflow": null,
            "overflow_x": null,
            "overflow_y": null,
            "padding": null,
            "right": null,
            "top": null,
            "visibility": null,
            "width": null
          }
        },
        "c5f24ca491d14953add2a51eb8854503": {
          "model_module": "@jupyter-widgets/controls",
          "model_name": "DescriptionStyleModel",
          "model_module_version": "1.5.0",
          "state": {
            "_model_module": "@jupyter-widgets/controls",
            "_model_module_version": "1.5.0",
            "_model_name": "DescriptionStyleModel",
            "_view_count": null,
            "_view_module": "@jupyter-widgets/base",
            "_view_module_version": "1.2.0",
            "_view_name": "StyleView",
            "description_width": ""
          }
        },
        "61428a2a3e914bacb120b7a88aa04301": {
          "model_module": "@jupyter-widgets/controls",
          "model_name": "HBoxModel",
          "model_module_version": "1.5.0",
          "state": {
            "_dom_classes": [],
            "_model_module": "@jupyter-widgets/controls",
            "_model_module_version": "1.5.0",
            "_model_name": "HBoxModel",
            "_view_count": null,
            "_view_module": "@jupyter-widgets/controls",
            "_view_module_version": "1.5.0",
            "_view_name": "HBoxView",
            "box_style": "",
            "children": [
              "IPY_MODEL_ad8b6c05b657456eb5fb91ccc2dd3032",
              "IPY_MODEL_158d65216c424a478cb98db9c02d4c3c",
              "IPY_MODEL_8d075680fc5c448a841437a2fa3ed7f0"
            ],
            "layout": "IPY_MODEL_86b2a229acb840fc83170d2a26e2aa6c"
          }
        },
        "ad8b6c05b657456eb5fb91ccc2dd3032": {
          "model_module": "@jupyter-widgets/controls",
          "model_name": "HTMLModel",
          "model_module_version": "1.5.0",
          "state": {
            "_dom_classes": [],
            "_model_module": "@jupyter-widgets/controls",
            "_model_module_version": "1.5.0",
            "_model_name": "HTMLModel",
            "_view_count": null,
            "_view_module": "@jupyter-widgets/controls",
            "_view_module_version": "1.5.0",
            "_view_name": "HTMLView",
            "description": "",
            "description_tooltip": null,
            "layout": "IPY_MODEL_f0f7fba10ab24d69a11ca084be5577ef",
            "placeholder": "​",
            "style": "IPY_MODEL_198192fd178b4fe98f7161a13f9b1c19",
            "value": "vocab.txt: 100%"
          }
        },
        "158d65216c424a478cb98db9c02d4c3c": {
          "model_module": "@jupyter-widgets/controls",
          "model_name": "FloatProgressModel",
          "model_module_version": "1.5.0",
          "state": {
            "_dom_classes": [],
            "_model_module": "@jupyter-widgets/controls",
            "_model_module_version": "1.5.0",
            "_model_name": "FloatProgressModel",
            "_view_count": null,
            "_view_module": "@jupyter-widgets/controls",
            "_view_module_version": "1.5.0",
            "_view_name": "ProgressView",
            "bar_style": "success",
            "description": "",
            "description_tooltip": null,
            "layout": "IPY_MODEL_fcf780817cb74078a2f83d77235ef870",
            "max": 231508,
            "min": 0,
            "orientation": "horizontal",
            "style": "IPY_MODEL_cb1cc66d60714b9cbde5838de149b69c",
            "value": 231508
          }
        },
        "8d075680fc5c448a841437a2fa3ed7f0": {
          "model_module": "@jupyter-widgets/controls",
          "model_name": "HTMLModel",
          "model_module_version": "1.5.0",
          "state": {
            "_dom_classes": [],
            "_model_module": "@jupyter-widgets/controls",
            "_model_module_version": "1.5.0",
            "_model_name": "HTMLModel",
            "_view_count": null,
            "_view_module": "@jupyter-widgets/controls",
            "_view_module_version": "1.5.0",
            "_view_name": "HTMLView",
            "description": "",
            "description_tooltip": null,
            "layout": "IPY_MODEL_6a56e27c85c743228d54a34518b4be4d",
            "placeholder": "​",
            "style": "IPY_MODEL_4ee3047cb4b144719bd4bcee5edab9c5",
            "value": " 232k/232k [00:00&lt;00:00, 4.49MB/s]"
          }
        },
        "86b2a229acb840fc83170d2a26e2aa6c": {
          "model_module": "@jupyter-widgets/base",
          "model_name": "LayoutModel",
          "model_module_version": "1.2.0",
          "state": {
            "_model_module": "@jupyter-widgets/base",
            "_model_module_version": "1.2.0",
            "_model_name": "LayoutModel",
            "_view_count": null,
            "_view_module": "@jupyter-widgets/base",
            "_view_module_version": "1.2.0",
            "_view_name": "LayoutView",
            "align_content": null,
            "align_items": null,
            "align_self": null,
            "border": null,
            "bottom": null,
            "display": null,
            "flex": null,
            "flex_flow": null,
            "grid_area": null,
            "grid_auto_columns": null,
            "grid_auto_flow": null,
            "grid_auto_rows": null,
            "grid_column": null,
            "grid_gap": null,
            "grid_row": null,
            "grid_template_areas": null,
            "grid_template_columns": null,
            "grid_template_rows": null,
            "height": null,
            "justify_content": null,
            "justify_items": null,
            "left": null,
            "margin": null,
            "max_height": null,
            "max_width": null,
            "min_height": null,
            "min_width": null,
            "object_fit": null,
            "object_position": null,
            "order": null,
            "overflow": null,
            "overflow_x": null,
            "overflow_y": null,
            "padding": null,
            "right": null,
            "top": null,
            "visibility": null,
            "width": null
          }
        },
        "f0f7fba10ab24d69a11ca084be5577ef": {
          "model_module": "@jupyter-widgets/base",
          "model_name": "LayoutModel",
          "model_module_version": "1.2.0",
          "state": {
            "_model_module": "@jupyter-widgets/base",
            "_model_module_version": "1.2.0",
            "_model_name": "LayoutModel",
            "_view_count": null,
            "_view_module": "@jupyter-widgets/base",
            "_view_module_version": "1.2.0",
            "_view_name": "LayoutView",
            "align_content": null,
            "align_items": null,
            "align_self": null,
            "border": null,
            "bottom": null,
            "display": null,
            "flex": null,
            "flex_flow": null,
            "grid_area": null,
            "grid_auto_columns": null,
            "grid_auto_flow": null,
            "grid_auto_rows": null,
            "grid_column": null,
            "grid_gap": null,
            "grid_row": null,
            "grid_template_areas": null,
            "grid_template_columns": null,
            "grid_template_rows": null,
            "height": null,
            "justify_content": null,
            "justify_items": null,
            "left": null,
            "margin": null,
            "max_height": null,
            "max_width": null,
            "min_height": null,
            "min_width": null,
            "object_fit": null,
            "object_position": null,
            "order": null,
            "overflow": null,
            "overflow_x": null,
            "overflow_y": null,
            "padding": null,
            "right": null,
            "top": null,
            "visibility": null,
            "width": null
          }
        },
        "198192fd178b4fe98f7161a13f9b1c19": {
          "model_module": "@jupyter-widgets/controls",
          "model_name": "DescriptionStyleModel",
          "model_module_version": "1.5.0",
          "state": {
            "_model_module": "@jupyter-widgets/controls",
            "_model_module_version": "1.5.0",
            "_model_name": "DescriptionStyleModel",
            "_view_count": null,
            "_view_module": "@jupyter-widgets/base",
            "_view_module_version": "1.2.0",
            "_view_name": "StyleView",
            "description_width": ""
          }
        },
        "fcf780817cb74078a2f83d77235ef870": {
          "model_module": "@jupyter-widgets/base",
          "model_name": "LayoutModel",
          "model_module_version": "1.2.0",
          "state": {
            "_model_module": "@jupyter-widgets/base",
            "_model_module_version": "1.2.0",
            "_model_name": "LayoutModel",
            "_view_count": null,
            "_view_module": "@jupyter-widgets/base",
            "_view_module_version": "1.2.0",
            "_view_name": "LayoutView",
            "align_content": null,
            "align_items": null,
            "align_self": null,
            "border": null,
            "bottom": null,
            "display": null,
            "flex": null,
            "flex_flow": null,
            "grid_area": null,
            "grid_auto_columns": null,
            "grid_auto_flow": null,
            "grid_auto_rows": null,
            "grid_column": null,
            "grid_gap": null,
            "grid_row": null,
            "grid_template_areas": null,
            "grid_template_columns": null,
            "grid_template_rows": null,
            "height": null,
            "justify_content": null,
            "justify_items": null,
            "left": null,
            "margin": null,
            "max_height": null,
            "max_width": null,
            "min_height": null,
            "min_width": null,
            "object_fit": null,
            "object_position": null,
            "order": null,
            "overflow": null,
            "overflow_x": null,
            "overflow_y": null,
            "padding": null,
            "right": null,
            "top": null,
            "visibility": null,
            "width": null
          }
        },
        "cb1cc66d60714b9cbde5838de149b69c": {
          "model_module": "@jupyter-widgets/controls",
          "model_name": "ProgressStyleModel",
          "model_module_version": "1.5.0",
          "state": {
            "_model_module": "@jupyter-widgets/controls",
            "_model_module_version": "1.5.0",
            "_model_name": "ProgressStyleModel",
            "_view_count": null,
            "_view_module": "@jupyter-widgets/base",
            "_view_module_version": "1.2.0",
            "_view_name": "StyleView",
            "bar_color": null,
            "description_width": ""
          }
        },
        "6a56e27c85c743228d54a34518b4be4d": {
          "model_module": "@jupyter-widgets/base",
          "model_name": "LayoutModel",
          "model_module_version": "1.2.0",
          "state": {
            "_model_module": "@jupyter-widgets/base",
            "_model_module_version": "1.2.0",
            "_model_name": "LayoutModel",
            "_view_count": null,
            "_view_module": "@jupyter-widgets/base",
            "_view_module_version": "1.2.0",
            "_view_name": "LayoutView",
            "align_content": null,
            "align_items": null,
            "align_self": null,
            "border": null,
            "bottom": null,
            "display": null,
            "flex": null,
            "flex_flow": null,
            "grid_area": null,
            "grid_auto_columns": null,
            "grid_auto_flow": null,
            "grid_auto_rows": null,
            "grid_column": null,
            "grid_gap": null,
            "grid_row": null,
            "grid_template_areas": null,
            "grid_template_columns": null,
            "grid_template_rows": null,
            "height": null,
            "justify_content": null,
            "justify_items": null,
            "left": null,
            "margin": null,
            "max_height": null,
            "max_width": null,
            "min_height": null,
            "min_width": null,
            "object_fit": null,
            "object_position": null,
            "order": null,
            "overflow": null,
            "overflow_x": null,
            "overflow_y": null,
            "padding": null,
            "right": null,
            "top": null,
            "visibility": null,
            "width": null
          }
        },
        "4ee3047cb4b144719bd4bcee5edab9c5": {
          "model_module": "@jupyter-widgets/controls",
          "model_name": "DescriptionStyleModel",
          "model_module_version": "1.5.0",
          "state": {
            "_model_module": "@jupyter-widgets/controls",
            "_model_module_version": "1.5.0",
            "_model_name": "DescriptionStyleModel",
            "_view_count": null,
            "_view_module": "@jupyter-widgets/base",
            "_view_module_version": "1.2.0",
            "_view_name": "StyleView",
            "description_width": ""
          }
        },
        "b4952bcbf3eb4511a1ebf40205c271de": {
          "model_module": "@jupyter-widgets/controls",
          "model_name": "HBoxModel",
          "model_module_version": "1.5.0",
          "state": {
            "_dom_classes": [],
            "_model_module": "@jupyter-widgets/controls",
            "_model_module_version": "1.5.0",
            "_model_name": "HBoxModel",
            "_view_count": null,
            "_view_module": "@jupyter-widgets/controls",
            "_view_module_version": "1.5.0",
            "_view_name": "HBoxView",
            "box_style": "",
            "children": [
              "IPY_MODEL_8b6aa0add9474fd0987027d64b93862b",
              "IPY_MODEL_5f47b30e5afa4c589fd43fe7dd258552",
              "IPY_MODEL_417d99ebb85442528d5638e269a4417b"
            ],
            "layout": "IPY_MODEL_03f7e6b4a9744aa7bc9710b8a8f9c8ca"
          }
        },
        "8b6aa0add9474fd0987027d64b93862b": {
          "model_module": "@jupyter-widgets/controls",
          "model_name": "HTMLModel",
          "model_module_version": "1.5.0",
          "state": {
            "_dom_classes": [],
            "_model_module": "@jupyter-widgets/controls",
            "_model_module_version": "1.5.0",
            "_model_name": "HTMLModel",
            "_view_count": null,
            "_view_module": "@jupyter-widgets/controls",
            "_view_module_version": "1.5.0",
            "_view_name": "HTMLView",
            "description": "",
            "description_tooltip": null,
            "layout": "IPY_MODEL_30ad186ca39e49528dfea1d92ffc1f82",
            "placeholder": "​",
            "style": "IPY_MODEL_dd2b8ad203e34092b74294e117cfc92a",
            "value": "tokenizer.json: 100%"
          }
        },
        "5f47b30e5afa4c589fd43fe7dd258552": {
          "model_module": "@jupyter-widgets/controls",
          "model_name": "FloatProgressModel",
          "model_module_version": "1.5.0",
          "state": {
            "_dom_classes": [],
            "_model_module": "@jupyter-widgets/controls",
            "_model_module_version": "1.5.0",
            "_model_name": "FloatProgressModel",
            "_view_count": null,
            "_view_module": "@jupyter-widgets/controls",
            "_view_module_version": "1.5.0",
            "_view_name": "ProgressView",
            "bar_style": "success",
            "description": "",
            "description_tooltip": null,
            "layout": "IPY_MODEL_dd987d6a24a84b96897f4c7a07aeefaa",
            "max": 466062,
            "min": 0,
            "orientation": "horizontal",
            "style": "IPY_MODEL_e87ced5a1ce840c2a88cc3bb43e794b3",
            "value": 466062
          }
        },
        "417d99ebb85442528d5638e269a4417b": {
          "model_module": "@jupyter-widgets/controls",
          "model_name": "HTMLModel",
          "model_module_version": "1.5.0",
          "state": {
            "_dom_classes": [],
            "_model_module": "@jupyter-widgets/controls",
            "_model_module_version": "1.5.0",
            "_model_name": "HTMLModel",
            "_view_count": null,
            "_view_module": "@jupyter-widgets/controls",
            "_view_module_version": "1.5.0",
            "_view_name": "HTMLView",
            "description": "",
            "description_tooltip": null,
            "layout": "IPY_MODEL_ebbfc42c8a254bb88cde55301944e0de",
            "placeholder": "​",
            "style": "IPY_MODEL_1a3e306df1544ef6ad034c5bbdc14958",
            "value": " 466k/466k [00:00&lt;00:00, 2.71MB/s]"
          }
        },
        "03f7e6b4a9744aa7bc9710b8a8f9c8ca": {
          "model_module": "@jupyter-widgets/base",
          "model_name": "LayoutModel",
          "model_module_version": "1.2.0",
          "state": {
            "_model_module": "@jupyter-widgets/base",
            "_model_module_version": "1.2.0",
            "_model_name": "LayoutModel",
            "_view_count": null,
            "_view_module": "@jupyter-widgets/base",
            "_view_module_version": "1.2.0",
            "_view_name": "LayoutView",
            "align_content": null,
            "align_items": null,
            "align_self": null,
            "border": null,
            "bottom": null,
            "display": null,
            "flex": null,
            "flex_flow": null,
            "grid_area": null,
            "grid_auto_columns": null,
            "grid_auto_flow": null,
            "grid_auto_rows": null,
            "grid_column": null,
            "grid_gap": null,
            "grid_row": null,
            "grid_template_areas": null,
            "grid_template_columns": null,
            "grid_template_rows": null,
            "height": null,
            "justify_content": null,
            "justify_items": null,
            "left": null,
            "margin": null,
            "max_height": null,
            "max_width": null,
            "min_height": null,
            "min_width": null,
            "object_fit": null,
            "object_position": null,
            "order": null,
            "overflow": null,
            "overflow_x": null,
            "overflow_y": null,
            "padding": null,
            "right": null,
            "top": null,
            "visibility": null,
            "width": null
          }
        },
        "30ad186ca39e49528dfea1d92ffc1f82": {
          "model_module": "@jupyter-widgets/base",
          "model_name": "LayoutModel",
          "model_module_version": "1.2.0",
          "state": {
            "_model_module": "@jupyter-widgets/base",
            "_model_module_version": "1.2.0",
            "_model_name": "LayoutModel",
            "_view_count": null,
            "_view_module": "@jupyter-widgets/base",
            "_view_module_version": "1.2.0",
            "_view_name": "LayoutView",
            "align_content": null,
            "align_items": null,
            "align_self": null,
            "border": null,
            "bottom": null,
            "display": null,
            "flex": null,
            "flex_flow": null,
            "grid_area": null,
            "grid_auto_columns": null,
            "grid_auto_flow": null,
            "grid_auto_rows": null,
            "grid_column": null,
            "grid_gap": null,
            "grid_row": null,
            "grid_template_areas": null,
            "grid_template_columns": null,
            "grid_template_rows": null,
            "height": null,
            "justify_content": null,
            "justify_items": null,
            "left": null,
            "margin": null,
            "max_height": null,
            "max_width": null,
            "min_height": null,
            "min_width": null,
            "object_fit": null,
            "object_position": null,
            "order": null,
            "overflow": null,
            "overflow_x": null,
            "overflow_y": null,
            "padding": null,
            "right": null,
            "top": null,
            "visibility": null,
            "width": null
          }
        },
        "dd2b8ad203e34092b74294e117cfc92a": {
          "model_module": "@jupyter-widgets/controls",
          "model_name": "DescriptionStyleModel",
          "model_module_version": "1.5.0",
          "state": {
            "_model_module": "@jupyter-widgets/controls",
            "_model_module_version": "1.5.0",
            "_model_name": "DescriptionStyleModel",
            "_view_count": null,
            "_view_module": "@jupyter-widgets/base",
            "_view_module_version": "1.2.0",
            "_view_name": "StyleView",
            "description_width": ""
          }
        },
        "dd987d6a24a84b96897f4c7a07aeefaa": {
          "model_module": "@jupyter-widgets/base",
          "model_name": "LayoutModel",
          "model_module_version": "1.2.0",
          "state": {
            "_model_module": "@jupyter-widgets/base",
            "_model_module_version": "1.2.0",
            "_model_name": "LayoutModel",
            "_view_count": null,
            "_view_module": "@jupyter-widgets/base",
            "_view_module_version": "1.2.0",
            "_view_name": "LayoutView",
            "align_content": null,
            "align_items": null,
            "align_self": null,
            "border": null,
            "bottom": null,
            "display": null,
            "flex": null,
            "flex_flow": null,
            "grid_area": null,
            "grid_auto_columns": null,
            "grid_auto_flow": null,
            "grid_auto_rows": null,
            "grid_column": null,
            "grid_gap": null,
            "grid_row": null,
            "grid_template_areas": null,
            "grid_template_columns": null,
            "grid_template_rows": null,
            "height": null,
            "justify_content": null,
            "justify_items": null,
            "left": null,
            "margin": null,
            "max_height": null,
            "max_width": null,
            "min_height": null,
            "min_width": null,
            "object_fit": null,
            "object_position": null,
            "order": null,
            "overflow": null,
            "overflow_x": null,
            "overflow_y": null,
            "padding": null,
            "right": null,
            "top": null,
            "visibility": null,
            "width": null
          }
        },
        "e87ced5a1ce840c2a88cc3bb43e794b3": {
          "model_module": "@jupyter-widgets/controls",
          "model_name": "ProgressStyleModel",
          "model_module_version": "1.5.0",
          "state": {
            "_model_module": "@jupyter-widgets/controls",
            "_model_module_version": "1.5.0",
            "_model_name": "ProgressStyleModel",
            "_view_count": null,
            "_view_module": "@jupyter-widgets/base",
            "_view_module_version": "1.2.0",
            "_view_name": "StyleView",
            "bar_color": null,
            "description_width": ""
          }
        },
        "ebbfc42c8a254bb88cde55301944e0de": {
          "model_module": "@jupyter-widgets/base",
          "model_name": "LayoutModel",
          "model_module_version": "1.2.0",
          "state": {
            "_model_module": "@jupyter-widgets/base",
            "_model_module_version": "1.2.0",
            "_model_name": "LayoutModel",
            "_view_count": null,
            "_view_module": "@jupyter-widgets/base",
            "_view_module_version": "1.2.0",
            "_view_name": "LayoutView",
            "align_content": null,
            "align_items": null,
            "align_self": null,
            "border": null,
            "bottom": null,
            "display": null,
            "flex": null,
            "flex_flow": null,
            "grid_area": null,
            "grid_auto_columns": null,
            "grid_auto_flow": null,
            "grid_auto_rows": null,
            "grid_column": null,
            "grid_gap": null,
            "grid_row": null,
            "grid_template_areas": null,
            "grid_template_columns": null,
            "grid_template_rows": null,
            "height": null,
            "justify_content": null,
            "justify_items": null,
            "left": null,
            "margin": null,
            "max_height": null,
            "max_width": null,
            "min_height": null,
            "min_width": null,
            "object_fit": null,
            "object_position": null,
            "order": null,
            "overflow": null,
            "overflow_x": null,
            "overflow_y": null,
            "padding": null,
            "right": null,
            "top": null,
            "visibility": null,
            "width": null
          }
        },
        "1a3e306df1544ef6ad034c5bbdc14958": {
          "model_module": "@jupyter-widgets/controls",
          "model_name": "DescriptionStyleModel",
          "model_module_version": "1.5.0",
          "state": {
            "_model_module": "@jupyter-widgets/controls",
            "_model_module_version": "1.5.0",
            "_model_name": "DescriptionStyleModel",
            "_view_count": null,
            "_view_module": "@jupyter-widgets/base",
            "_view_module_version": "1.2.0",
            "_view_name": "StyleView",
            "description_width": ""
          }
        },
        "10efda4f0464409ea45fdd04d78a2f6e": {
          "model_module": "@jupyter-widgets/controls",
          "model_name": "HBoxModel",
          "model_module_version": "1.5.0",
          "state": {
            "_dom_classes": [],
            "_model_module": "@jupyter-widgets/controls",
            "_model_module_version": "1.5.0",
            "_model_name": "HBoxModel",
            "_view_count": null,
            "_view_module": "@jupyter-widgets/controls",
            "_view_module_version": "1.5.0",
            "_view_name": "HBoxView",
            "box_style": "",
            "children": [
              "IPY_MODEL_4a780796e9b34aa5b1a44fa64efd3af1",
              "IPY_MODEL_8506fc0c6f0d4967b25aca44393cbdb5",
              "IPY_MODEL_9f5219289a9c4a6d8388c36a7d731ca1"
            ],
            "layout": "IPY_MODEL_9cbe07c3ed01415c9c06b4d3c80a66ae"
          }
        },
        "4a780796e9b34aa5b1a44fa64efd3af1": {
          "model_module": "@jupyter-widgets/controls",
          "model_name": "HTMLModel",
          "model_module_version": "1.5.0",
          "state": {
            "_dom_classes": [],
            "_model_module": "@jupyter-widgets/controls",
            "_model_module_version": "1.5.0",
            "_model_name": "HTMLModel",
            "_view_count": null,
            "_view_module": "@jupyter-widgets/controls",
            "_view_module_version": "1.5.0",
            "_view_name": "HTMLView",
            "description": "",
            "description_tooltip": null,
            "layout": "IPY_MODEL_beab6c6ba0c0428880ff29e34da069e4",
            "placeholder": "​",
            "style": "IPY_MODEL_67d54d9346da42f3bb4983aa1988fbdd",
            "value": "config.json: 100%"
          }
        },
        "8506fc0c6f0d4967b25aca44393cbdb5": {
          "model_module": "@jupyter-widgets/controls",
          "model_name": "FloatProgressModel",
          "model_module_version": "1.5.0",
          "state": {
            "_dom_classes": [],
            "_model_module": "@jupyter-widgets/controls",
            "_model_module_version": "1.5.0",
            "_model_name": "FloatProgressModel",
            "_view_count": null,
            "_view_module": "@jupyter-widgets/controls",
            "_view_module_version": "1.5.0",
            "_view_name": "ProgressView",
            "bar_style": "success",
            "description": "",
            "description_tooltip": null,
            "layout": "IPY_MODEL_03a9205d36914fe0852ec4384650f8e6",
            "max": 570,
            "min": 0,
            "orientation": "horizontal",
            "style": "IPY_MODEL_dd83c3f944624eb4b3ade8102ec4e9f3",
            "value": 570
          }
        },
        "9f5219289a9c4a6d8388c36a7d731ca1": {
          "model_module": "@jupyter-widgets/controls",
          "model_name": "HTMLModel",
          "model_module_version": "1.5.0",
          "state": {
            "_dom_classes": [],
            "_model_module": "@jupyter-widgets/controls",
            "_model_module_version": "1.5.0",
            "_model_name": "HTMLModel",
            "_view_count": null,
            "_view_module": "@jupyter-widgets/controls",
            "_view_module_version": "1.5.0",
            "_view_name": "HTMLView",
            "description": "",
            "description_tooltip": null,
            "layout": "IPY_MODEL_63e23a80826640ea8c6ad8732da26637",
            "placeholder": "​",
            "style": "IPY_MODEL_82b53e71ff1e425fa8d9a8f5f4e3e3ac",
            "value": " 570/570 [00:00&lt;00:00, 19.2kB/s]"
          }
        },
        "9cbe07c3ed01415c9c06b4d3c80a66ae": {
          "model_module": "@jupyter-widgets/base",
          "model_name": "LayoutModel",
          "model_module_version": "1.2.0",
          "state": {
            "_model_module": "@jupyter-widgets/base",
            "_model_module_version": "1.2.0",
            "_model_name": "LayoutModel",
            "_view_count": null,
            "_view_module": "@jupyter-widgets/base",
            "_view_module_version": "1.2.0",
            "_view_name": "LayoutView",
            "align_content": null,
            "align_items": null,
            "align_self": null,
            "border": null,
            "bottom": null,
            "display": null,
            "flex": null,
            "flex_flow": null,
            "grid_area": null,
            "grid_auto_columns": null,
            "grid_auto_flow": null,
            "grid_auto_rows": null,
            "grid_column": null,
            "grid_gap": null,
            "grid_row": null,
            "grid_template_areas": null,
            "grid_template_columns": null,
            "grid_template_rows": null,
            "height": null,
            "justify_content": null,
            "justify_items": null,
            "left": null,
            "margin": null,
            "max_height": null,
            "max_width": null,
            "min_height": null,
            "min_width": null,
            "object_fit": null,
            "object_position": null,
            "order": null,
            "overflow": null,
            "overflow_x": null,
            "overflow_y": null,
            "padding": null,
            "right": null,
            "top": null,
            "visibility": null,
            "width": null
          }
        },
        "beab6c6ba0c0428880ff29e34da069e4": {
          "model_module": "@jupyter-widgets/base",
          "model_name": "LayoutModel",
          "model_module_version": "1.2.0",
          "state": {
            "_model_module": "@jupyter-widgets/base",
            "_model_module_version": "1.2.0",
            "_model_name": "LayoutModel",
            "_view_count": null,
            "_view_module": "@jupyter-widgets/base",
            "_view_module_version": "1.2.0",
            "_view_name": "LayoutView",
            "align_content": null,
            "align_items": null,
            "align_self": null,
            "border": null,
            "bottom": null,
            "display": null,
            "flex": null,
            "flex_flow": null,
            "grid_area": null,
            "grid_auto_columns": null,
            "grid_auto_flow": null,
            "grid_auto_rows": null,
            "grid_column": null,
            "grid_gap": null,
            "grid_row": null,
            "grid_template_areas": null,
            "grid_template_columns": null,
            "grid_template_rows": null,
            "height": null,
            "justify_content": null,
            "justify_items": null,
            "left": null,
            "margin": null,
            "max_height": null,
            "max_width": null,
            "min_height": null,
            "min_width": null,
            "object_fit": null,
            "object_position": null,
            "order": null,
            "overflow": null,
            "overflow_x": null,
            "overflow_y": null,
            "padding": null,
            "right": null,
            "top": null,
            "visibility": null,
            "width": null
          }
        },
        "67d54d9346da42f3bb4983aa1988fbdd": {
          "model_module": "@jupyter-widgets/controls",
          "model_name": "DescriptionStyleModel",
          "model_module_version": "1.5.0",
          "state": {
            "_model_module": "@jupyter-widgets/controls",
            "_model_module_version": "1.5.0",
            "_model_name": "DescriptionStyleModel",
            "_view_count": null,
            "_view_module": "@jupyter-widgets/base",
            "_view_module_version": "1.2.0",
            "_view_name": "StyleView",
            "description_width": ""
          }
        },
        "03a9205d36914fe0852ec4384650f8e6": {
          "model_module": "@jupyter-widgets/base",
          "model_name": "LayoutModel",
          "model_module_version": "1.2.0",
          "state": {
            "_model_module": "@jupyter-widgets/base",
            "_model_module_version": "1.2.0",
            "_model_name": "LayoutModel",
            "_view_count": null,
            "_view_module": "@jupyter-widgets/base",
            "_view_module_version": "1.2.0",
            "_view_name": "LayoutView",
            "align_content": null,
            "align_items": null,
            "align_self": null,
            "border": null,
            "bottom": null,
            "display": null,
            "flex": null,
            "flex_flow": null,
            "grid_area": null,
            "grid_auto_columns": null,
            "grid_auto_flow": null,
            "grid_auto_rows": null,
            "grid_column": null,
            "grid_gap": null,
            "grid_row": null,
            "grid_template_areas": null,
            "grid_template_columns": null,
            "grid_template_rows": null,
            "height": null,
            "justify_content": null,
            "justify_items": null,
            "left": null,
            "margin": null,
            "max_height": null,
            "max_width": null,
            "min_height": null,
            "min_width": null,
            "object_fit": null,
            "object_position": null,
            "order": null,
            "overflow": null,
            "overflow_x": null,
            "overflow_y": null,
            "padding": null,
            "right": null,
            "top": null,
            "visibility": null,
            "width": null
          }
        },
        "dd83c3f944624eb4b3ade8102ec4e9f3": {
          "model_module": "@jupyter-widgets/controls",
          "model_name": "ProgressStyleModel",
          "model_module_version": "1.5.0",
          "state": {
            "_model_module": "@jupyter-widgets/controls",
            "_model_module_version": "1.5.0",
            "_model_name": "ProgressStyleModel",
            "_view_count": null,
            "_view_module": "@jupyter-widgets/base",
            "_view_module_version": "1.2.0",
            "_view_name": "StyleView",
            "bar_color": null,
            "description_width": ""
          }
        },
        "63e23a80826640ea8c6ad8732da26637": {
          "model_module": "@jupyter-widgets/base",
          "model_name": "LayoutModel",
          "model_module_version": "1.2.0",
          "state": {
            "_model_module": "@jupyter-widgets/base",
            "_model_module_version": "1.2.0",
            "_model_name": "LayoutModel",
            "_view_count": null,
            "_view_module": "@jupyter-widgets/base",
            "_view_module_version": "1.2.0",
            "_view_name": "LayoutView",
            "align_content": null,
            "align_items": null,
            "align_self": null,
            "border": null,
            "bottom": null,
            "display": null,
            "flex": null,
            "flex_flow": null,
            "grid_area": null,
            "grid_auto_columns": null,
            "grid_auto_flow": null,
            "grid_auto_rows": null,
            "grid_column": null,
            "grid_gap": null,
            "grid_row": null,
            "grid_template_areas": null,
            "grid_template_columns": null,
            "grid_template_rows": null,
            "height": null,
            "justify_content": null,
            "justify_items": null,
            "left": null,
            "margin": null,
            "max_height": null,
            "max_width": null,
            "min_height": null,
            "min_width": null,
            "object_fit": null,
            "object_position": null,
            "order": null,
            "overflow": null,
            "overflow_x": null,
            "overflow_y": null,
            "padding": null,
            "right": null,
            "top": null,
            "visibility": null,
            "width": null
          }
        },
        "82b53e71ff1e425fa8d9a8f5f4e3e3ac": {
          "model_module": "@jupyter-widgets/controls",
          "model_name": "DescriptionStyleModel",
          "model_module_version": "1.5.0",
          "state": {
            "_model_module": "@jupyter-widgets/controls",
            "_model_module_version": "1.5.0",
            "_model_name": "DescriptionStyleModel",
            "_view_count": null,
            "_view_module": "@jupyter-widgets/base",
            "_view_module_version": "1.2.0",
            "_view_name": "StyleView",
            "description_width": ""
          }
        },
        "3b0178cef3794c7dbeec8ecbdbdd5f98": {
          "model_module": "@jupyter-widgets/controls",
          "model_name": "HBoxModel",
          "model_module_version": "1.5.0",
          "state": {
            "_dom_classes": [],
            "_model_module": "@jupyter-widgets/controls",
            "_model_module_version": "1.5.0",
            "_model_name": "HBoxModel",
            "_view_count": null,
            "_view_module": "@jupyter-widgets/controls",
            "_view_module_version": "1.5.0",
            "_view_name": "HBoxView",
            "box_style": "",
            "children": [
              "IPY_MODEL_f76003c428874993b524482d149a7ffc",
              "IPY_MODEL_0705dad19f3244a5ae99783fe3999cc1",
              "IPY_MODEL_6d7026d6811f4859a599d471572e19e4"
            ],
            "layout": "IPY_MODEL_229fb6aeb285411aafed37b09f9f5f54"
          }
        },
        "f76003c428874993b524482d149a7ffc": {
          "model_module": "@jupyter-widgets/controls",
          "model_name": "HTMLModel",
          "model_module_version": "1.5.0",
          "state": {
            "_dom_classes": [],
            "_model_module": "@jupyter-widgets/controls",
            "_model_module_version": "1.5.0",
            "_model_name": "HTMLModel",
            "_view_count": null,
            "_view_module": "@jupyter-widgets/controls",
            "_view_module_version": "1.5.0",
            "_view_name": "HTMLView",
            "description": "",
            "description_tooltip": null,
            "layout": "IPY_MODEL_2b5a3a942d7a4999a4be84d961044b30",
            "placeholder": "​",
            "style": "IPY_MODEL_0a26c6fab89948ad9f446f2cb4a72e6f",
            "value": "model.safetensors: 100%"
          }
        },
        "0705dad19f3244a5ae99783fe3999cc1": {
          "model_module": "@jupyter-widgets/controls",
          "model_name": "FloatProgressModel",
          "model_module_version": "1.5.0",
          "state": {
            "_dom_classes": [],
            "_model_module": "@jupyter-widgets/controls",
            "_model_module_version": "1.5.0",
            "_model_name": "FloatProgressModel",
            "_view_count": null,
            "_view_module": "@jupyter-widgets/controls",
            "_view_module_version": "1.5.0",
            "_view_name": "ProgressView",
            "bar_style": "success",
            "description": "",
            "description_tooltip": null,
            "layout": "IPY_MODEL_ce4834929f904084862da6fe7f2ea572",
            "max": 440449768,
            "min": 0,
            "orientation": "horizontal",
            "style": "IPY_MODEL_56ae0354ab59407b96a86467fde39297",
            "value": 440449768
          }
        },
        "6d7026d6811f4859a599d471572e19e4": {
          "model_module": "@jupyter-widgets/controls",
          "model_name": "HTMLModel",
          "model_module_version": "1.5.0",
          "state": {
            "_dom_classes": [],
            "_model_module": "@jupyter-widgets/controls",
            "_model_module_version": "1.5.0",
            "_model_name": "HTMLModel",
            "_view_count": null,
            "_view_module": "@jupyter-widgets/controls",
            "_view_module_version": "1.5.0",
            "_view_name": "HTMLView",
            "description": "",
            "description_tooltip": null,
            "layout": "IPY_MODEL_57cd7e4c2aa74dbb8ce007d983e44dda",
            "placeholder": "​",
            "style": "IPY_MODEL_8a3bb642039543ba8f7ab2da0d7f648c",
            "value": " 440M/440M [00:05&lt;00:00, 71.6MB/s]"
          }
        },
        "229fb6aeb285411aafed37b09f9f5f54": {
          "model_module": "@jupyter-widgets/base",
          "model_name": "LayoutModel",
          "model_module_version": "1.2.0",
          "state": {
            "_model_module": "@jupyter-widgets/base",
            "_model_module_version": "1.2.0",
            "_model_name": "LayoutModel",
            "_view_count": null,
            "_view_module": "@jupyter-widgets/base",
            "_view_module_version": "1.2.0",
            "_view_name": "LayoutView",
            "align_content": null,
            "align_items": null,
            "align_self": null,
            "border": null,
            "bottom": null,
            "display": null,
            "flex": null,
            "flex_flow": null,
            "grid_area": null,
            "grid_auto_columns": null,
            "grid_auto_flow": null,
            "grid_auto_rows": null,
            "grid_column": null,
            "grid_gap": null,
            "grid_row": null,
            "grid_template_areas": null,
            "grid_template_columns": null,
            "grid_template_rows": null,
            "height": null,
            "justify_content": null,
            "justify_items": null,
            "left": null,
            "margin": null,
            "max_height": null,
            "max_width": null,
            "min_height": null,
            "min_width": null,
            "object_fit": null,
            "object_position": null,
            "order": null,
            "overflow": null,
            "overflow_x": null,
            "overflow_y": null,
            "padding": null,
            "right": null,
            "top": null,
            "visibility": null,
            "width": null
          }
        },
        "2b5a3a942d7a4999a4be84d961044b30": {
          "model_module": "@jupyter-widgets/base",
          "model_name": "LayoutModel",
          "model_module_version": "1.2.0",
          "state": {
            "_model_module": "@jupyter-widgets/base",
            "_model_module_version": "1.2.0",
            "_model_name": "LayoutModel",
            "_view_count": null,
            "_view_module": "@jupyter-widgets/base",
            "_view_module_version": "1.2.0",
            "_view_name": "LayoutView",
            "align_content": null,
            "align_items": null,
            "align_self": null,
            "border": null,
            "bottom": null,
            "display": null,
            "flex": null,
            "flex_flow": null,
            "grid_area": null,
            "grid_auto_columns": null,
            "grid_auto_flow": null,
            "grid_auto_rows": null,
            "grid_column": null,
            "grid_gap": null,
            "grid_row": null,
            "grid_template_areas": null,
            "grid_template_columns": null,
            "grid_template_rows": null,
            "height": null,
            "justify_content": null,
            "justify_items": null,
            "left": null,
            "margin": null,
            "max_height": null,
            "max_width": null,
            "min_height": null,
            "min_width": null,
            "object_fit": null,
            "object_position": null,
            "order": null,
            "overflow": null,
            "overflow_x": null,
            "overflow_y": null,
            "padding": null,
            "right": null,
            "top": null,
            "visibility": null,
            "width": null
          }
        },
        "0a26c6fab89948ad9f446f2cb4a72e6f": {
          "model_module": "@jupyter-widgets/controls",
          "model_name": "DescriptionStyleModel",
          "model_module_version": "1.5.0",
          "state": {
            "_model_module": "@jupyter-widgets/controls",
            "_model_module_version": "1.5.0",
            "_model_name": "DescriptionStyleModel",
            "_view_count": null,
            "_view_module": "@jupyter-widgets/base",
            "_view_module_version": "1.2.0",
            "_view_name": "StyleView",
            "description_width": ""
          }
        },
        "ce4834929f904084862da6fe7f2ea572": {
          "model_module": "@jupyter-widgets/base",
          "model_name": "LayoutModel",
          "model_module_version": "1.2.0",
          "state": {
            "_model_module": "@jupyter-widgets/base",
            "_model_module_version": "1.2.0",
            "_model_name": "LayoutModel",
            "_view_count": null,
            "_view_module": "@jupyter-widgets/base",
            "_view_module_version": "1.2.0",
            "_view_name": "LayoutView",
            "align_content": null,
            "align_items": null,
            "align_self": null,
            "border": null,
            "bottom": null,
            "display": null,
            "flex": null,
            "flex_flow": null,
            "grid_area": null,
            "grid_auto_columns": null,
            "grid_auto_flow": null,
            "grid_auto_rows": null,
            "grid_column": null,
            "grid_gap": null,
            "grid_row": null,
            "grid_template_areas": null,
            "grid_template_columns": null,
            "grid_template_rows": null,
            "height": null,
            "justify_content": null,
            "justify_items": null,
            "left": null,
            "margin": null,
            "max_height": null,
            "max_width": null,
            "min_height": null,
            "min_width": null,
            "object_fit": null,
            "object_position": null,
            "order": null,
            "overflow": null,
            "overflow_x": null,
            "overflow_y": null,
            "padding": null,
            "right": null,
            "top": null,
            "visibility": null,
            "width": null
          }
        },
        "56ae0354ab59407b96a86467fde39297": {
          "model_module": "@jupyter-widgets/controls",
          "model_name": "ProgressStyleModel",
          "model_module_version": "1.5.0",
          "state": {
            "_model_module": "@jupyter-widgets/controls",
            "_model_module_version": "1.5.0",
            "_model_name": "ProgressStyleModel",
            "_view_count": null,
            "_view_module": "@jupyter-widgets/base",
            "_view_module_version": "1.2.0",
            "_view_name": "StyleView",
            "bar_color": null,
            "description_width": ""
          }
        },
        "57cd7e4c2aa74dbb8ce007d983e44dda": {
          "model_module": "@jupyter-widgets/base",
          "model_name": "LayoutModel",
          "model_module_version": "1.2.0",
          "state": {
            "_model_module": "@jupyter-widgets/base",
            "_model_module_version": "1.2.0",
            "_model_name": "LayoutModel",
            "_view_count": null,
            "_view_module": "@jupyter-widgets/base",
            "_view_module_version": "1.2.0",
            "_view_name": "LayoutView",
            "align_content": null,
            "align_items": null,
            "align_self": null,
            "border": null,
            "bottom": null,
            "display": null,
            "flex": null,
            "flex_flow": null,
            "grid_area": null,
            "grid_auto_columns": null,
            "grid_auto_flow": null,
            "grid_auto_rows": null,
            "grid_column": null,
            "grid_gap": null,
            "grid_row": null,
            "grid_template_areas": null,
            "grid_template_columns": null,
            "grid_template_rows": null,
            "height": null,
            "justify_content": null,
            "justify_items": null,
            "left": null,
            "margin": null,
            "max_height": null,
            "max_width": null,
            "min_height": null,
            "min_width": null,
            "object_fit": null,
            "object_position": null,
            "order": null,
            "overflow": null,
            "overflow_x": null,
            "overflow_y": null,
            "padding": null,
            "right": null,
            "top": null,
            "visibility": null,
            "width": null
          }
        },
        "8a3bb642039543ba8f7ab2da0d7f648c": {
          "model_module": "@jupyter-widgets/controls",
          "model_name": "DescriptionStyleModel",
          "model_module_version": "1.5.0",
          "state": {
            "_model_module": "@jupyter-widgets/controls",
            "_model_module_version": "1.5.0",
            "_model_name": "DescriptionStyleModel",
            "_view_count": null,
            "_view_module": "@jupyter-widgets/base",
            "_view_module_version": "1.2.0",
            "_view_name": "StyleView",
            "description_width": ""
          }
        }
      }
    },
    "accelerator": "GPU"
  },
  "cells": [
    {
      "cell_type": "code",
      "execution_count": null,
      "metadata": {
        "id": "uzAYrLG9hxDa",
        "colab": {
          "base_uri": "https://localhost:8080/"
        },
        "outputId": "430889cb-1c75-42f8-eb75-7901ed9d88fc"
      },
      "outputs": [
        {
          "output_type": "stream",
          "name": "stdout",
          "text": [
            "Requirement already satisfied: torch in /usr/local/lib/python3.11/dist-packages (2.5.1+cu124)\n",
            "Requirement already satisfied: filelock in /usr/local/lib/python3.11/dist-packages (from torch) (3.17.0)\n",
            "Requirement already satisfied: typing-extensions>=4.8.0 in /usr/local/lib/python3.11/dist-packages (from torch) (4.12.2)\n",
            "Requirement already satisfied: networkx in /usr/local/lib/python3.11/dist-packages (from torch) (3.4.2)\n",
            "Requirement already satisfied: jinja2 in /usr/local/lib/python3.11/dist-packages (from torch) (3.1.5)\n",
            "Requirement already satisfied: fsspec in /usr/local/lib/python3.11/dist-packages (from torch) (2024.10.0)\n",
            "Collecting nvidia-cuda-nvrtc-cu12==12.4.127 (from torch)\n",
            "  Downloading nvidia_cuda_nvrtc_cu12-12.4.127-py3-none-manylinux2014_x86_64.whl.metadata (1.5 kB)\n",
            "Collecting nvidia-cuda-runtime-cu12==12.4.127 (from torch)\n",
            "  Downloading nvidia_cuda_runtime_cu12-12.4.127-py3-none-manylinux2014_x86_64.whl.metadata (1.5 kB)\n",
            "Collecting nvidia-cuda-cupti-cu12==12.4.127 (from torch)\n",
            "  Downloading nvidia_cuda_cupti_cu12-12.4.127-py3-none-manylinux2014_x86_64.whl.metadata (1.6 kB)\n",
            "Collecting nvidia-cudnn-cu12==9.1.0.70 (from torch)\n",
            "  Downloading nvidia_cudnn_cu12-9.1.0.70-py3-none-manylinux2014_x86_64.whl.metadata (1.6 kB)\n",
            "Collecting nvidia-cublas-cu12==12.4.5.8 (from torch)\n",
            "  Downloading nvidia_cublas_cu12-12.4.5.8-py3-none-manylinux2014_x86_64.whl.metadata (1.5 kB)\n",
            "Collecting nvidia-cufft-cu12==11.2.1.3 (from torch)\n",
            "  Downloading nvidia_cufft_cu12-11.2.1.3-py3-none-manylinux2014_x86_64.whl.metadata (1.5 kB)\n",
            "Collecting nvidia-curand-cu12==10.3.5.147 (from torch)\n",
            "  Downloading nvidia_curand_cu12-10.3.5.147-py3-none-manylinux2014_x86_64.whl.metadata (1.5 kB)\n",
            "Collecting nvidia-cusolver-cu12==11.6.1.9 (from torch)\n",
            "  Downloading nvidia_cusolver_cu12-11.6.1.9-py3-none-manylinux2014_x86_64.whl.metadata (1.6 kB)\n",
            "Collecting nvidia-cusparse-cu12==12.3.1.170 (from torch)\n",
            "  Downloading nvidia_cusparse_cu12-12.3.1.170-py3-none-manylinux2014_x86_64.whl.metadata (1.6 kB)\n",
            "Requirement already satisfied: nvidia-nccl-cu12==2.21.5 in /usr/local/lib/python3.11/dist-packages (from torch) (2.21.5)\n",
            "Requirement already satisfied: nvidia-nvtx-cu12==12.4.127 in /usr/local/lib/python3.11/dist-packages (from torch) (12.4.127)\n",
            "Collecting nvidia-nvjitlink-cu12==12.4.127 (from torch)\n",
            "  Downloading nvidia_nvjitlink_cu12-12.4.127-py3-none-manylinux2014_x86_64.whl.metadata (1.5 kB)\n",
            "Requirement already satisfied: triton==3.1.0 in /usr/local/lib/python3.11/dist-packages (from torch) (3.1.0)\n",
            "Requirement already satisfied: sympy==1.13.1 in /usr/local/lib/python3.11/dist-packages (from torch) (1.13.1)\n",
            "Requirement already satisfied: mpmath<1.4,>=1.1.0 in /usr/local/lib/python3.11/dist-packages (from sympy==1.13.1->torch) (1.3.0)\n",
            "Requirement already satisfied: MarkupSafe>=2.0 in /usr/local/lib/python3.11/dist-packages (from jinja2->torch) (3.0.2)\n",
            "Downloading nvidia_cublas_cu12-12.4.5.8-py3-none-manylinux2014_x86_64.whl (363.4 MB)\n",
            "\u001b[2K   \u001b[90m━━━━━━━━━━━━━━━━━━━━━━━━━━━━━━━━━━━━━━━━\u001b[0m \u001b[32m363.4/363.4 MB\u001b[0m \u001b[31m3.1 MB/s\u001b[0m eta \u001b[36m0:00:00\u001b[0m\n",
            "\u001b[?25hDownloading nvidia_cuda_cupti_cu12-12.4.127-py3-none-manylinux2014_x86_64.whl (13.8 MB)\n",
            "\u001b[2K   \u001b[90m━━━━━━━━━━━━━━━━━━━━━━━━━━━━━━━━━━━━━━━━\u001b[0m \u001b[32m13.8/13.8 MB\u001b[0m \u001b[31m28.6 MB/s\u001b[0m eta \u001b[36m0:00:00\u001b[0m\n",
            "\u001b[?25hDownloading nvidia_cuda_nvrtc_cu12-12.4.127-py3-none-manylinux2014_x86_64.whl (24.6 MB)\n",
            "\u001b[2K   \u001b[90m━━━━━━━━━━━━━━━━━━━━━━━━━━━━━━━━━━━━━━━━\u001b[0m \u001b[32m24.6/24.6 MB\u001b[0m \u001b[31m33.0 MB/s\u001b[0m eta \u001b[36m0:00:00\u001b[0m\n",
            "\u001b[?25hDownloading nvidia_cuda_runtime_cu12-12.4.127-py3-none-manylinux2014_x86_64.whl (883 kB)\n",
            "\u001b[2K   \u001b[90m━━━━━━━━━━━━━━━━━━━━━━━━━━━━━━━━━━━━━━━━\u001b[0m \u001b[32m883.7/883.7 kB\u001b[0m \u001b[31m23.2 MB/s\u001b[0m eta \u001b[36m0:00:00\u001b[0m\n",
            "\u001b[?25hDownloading nvidia_cudnn_cu12-9.1.0.70-py3-none-manylinux2014_x86_64.whl (664.8 MB)\n",
            "\u001b[2K   \u001b[90m━━━━━━━━━━━━━━━━━━━━━━━━━━━━━━━━━━━━━━━━\u001b[0m \u001b[32m664.8/664.8 MB\u001b[0m \u001b[31m2.5 MB/s\u001b[0m eta \u001b[36m0:00:00\u001b[0m\n",
            "\u001b[?25hDownloading nvidia_cufft_cu12-11.2.1.3-py3-none-manylinux2014_x86_64.whl (211.5 MB)\n",
            "\u001b[2K   \u001b[90m━━━━━━━━━━━━━━━━━━━━━━━━━━━━━━━━━━━━━━━━\u001b[0m \u001b[32m211.5/211.5 MB\u001b[0m \u001b[31m5.1 MB/s\u001b[0m eta \u001b[36m0:00:00\u001b[0m\n",
            "\u001b[?25hDownloading nvidia_curand_cu12-10.3.5.147-py3-none-manylinux2014_x86_64.whl (56.3 MB)\n",
            "\u001b[2K   \u001b[90m━━━━━━━━━━━━━━━━━━━━━━━━━━━━━━━━━━━━━━━━\u001b[0m \u001b[32m56.3/56.3 MB\u001b[0m \u001b[31m8.8 MB/s\u001b[0m eta \u001b[36m0:00:00\u001b[0m\n",
            "\u001b[?25hDownloading nvidia_cusolver_cu12-11.6.1.9-py3-none-manylinux2014_x86_64.whl (127.9 MB)\n",
            "\u001b[2K   \u001b[90m━━━━━━━━━━━━━━━━━━━━━━━━━━━━━━━━━━━━━━━━\u001b[0m \u001b[32m127.9/127.9 MB\u001b[0m \u001b[31m9.4 MB/s\u001b[0m eta \u001b[36m0:00:00\u001b[0m\n",
            "\u001b[?25hDownloading nvidia_cusparse_cu12-12.3.1.170-py3-none-manylinux2014_x86_64.whl (207.5 MB)\n",
            "\u001b[2K   \u001b[90m━━━━━━━━━━━━━━━━━━━━━━━━━━━━━━━━━━━━━━━━\u001b[0m \u001b[32m207.5/207.5 MB\u001b[0m \u001b[31m4.5 MB/s\u001b[0m eta \u001b[36m0:00:00\u001b[0m\n",
            "\u001b[?25hDownloading nvidia_nvjitlink_cu12-12.4.127-py3-none-manylinux2014_x86_64.whl (21.1 MB)\n",
            "\u001b[2K   \u001b[90m━━━━━━━━━━━━━━━━━━━━━━━━━━━━━━━━━━━━━━━━\u001b[0m \u001b[32m21.1/21.1 MB\u001b[0m \u001b[31m62.2 MB/s\u001b[0m eta \u001b[36m0:00:00\u001b[0m\n",
            "\u001b[?25hInstalling collected packages: nvidia-nvjitlink-cu12, nvidia-curand-cu12, nvidia-cufft-cu12, nvidia-cuda-runtime-cu12, nvidia-cuda-nvrtc-cu12, nvidia-cuda-cupti-cu12, nvidia-cublas-cu12, nvidia-cusparse-cu12, nvidia-cudnn-cu12, nvidia-cusolver-cu12\n",
            "  Attempting uninstall: nvidia-nvjitlink-cu12\n",
            "    Found existing installation: nvidia-nvjitlink-cu12 12.5.82\n",
            "    Uninstalling nvidia-nvjitlink-cu12-12.5.82:\n",
            "      Successfully uninstalled nvidia-nvjitlink-cu12-12.5.82\n",
            "  Attempting uninstall: nvidia-curand-cu12\n",
            "    Found existing installation: nvidia-curand-cu12 10.3.6.82\n",
            "    Uninstalling nvidia-curand-cu12-10.3.6.82:\n",
            "      Successfully uninstalled nvidia-curand-cu12-10.3.6.82\n",
            "  Attempting uninstall: nvidia-cufft-cu12\n",
            "    Found existing installation: nvidia-cufft-cu12 11.2.3.61\n",
            "    Uninstalling nvidia-cufft-cu12-11.2.3.61:\n",
            "      Successfully uninstalled nvidia-cufft-cu12-11.2.3.61\n",
            "  Attempting uninstall: nvidia-cuda-runtime-cu12\n",
            "    Found existing installation: nvidia-cuda-runtime-cu12 12.5.82\n",
            "    Uninstalling nvidia-cuda-runtime-cu12-12.5.82:\n",
            "      Successfully uninstalled nvidia-cuda-runtime-cu12-12.5.82\n",
            "  Attempting uninstall: nvidia-cuda-nvrtc-cu12\n",
            "    Found existing installation: nvidia-cuda-nvrtc-cu12 12.5.82\n",
            "    Uninstalling nvidia-cuda-nvrtc-cu12-12.5.82:\n",
            "      Successfully uninstalled nvidia-cuda-nvrtc-cu12-12.5.82\n",
            "  Attempting uninstall: nvidia-cuda-cupti-cu12\n",
            "    Found existing installation: nvidia-cuda-cupti-cu12 12.5.82\n",
            "    Uninstalling nvidia-cuda-cupti-cu12-12.5.82:\n",
            "      Successfully uninstalled nvidia-cuda-cupti-cu12-12.5.82\n",
            "  Attempting uninstall: nvidia-cublas-cu12\n",
            "    Found existing installation: nvidia-cublas-cu12 12.5.3.2\n",
            "    Uninstalling nvidia-cublas-cu12-12.5.3.2:\n",
            "      Successfully uninstalled nvidia-cublas-cu12-12.5.3.2\n",
            "  Attempting uninstall: nvidia-cusparse-cu12\n",
            "    Found existing installation: nvidia-cusparse-cu12 12.5.1.3\n",
            "    Uninstalling nvidia-cusparse-cu12-12.5.1.3:\n",
            "      Successfully uninstalled nvidia-cusparse-cu12-12.5.1.3\n",
            "  Attempting uninstall: nvidia-cudnn-cu12\n",
            "    Found existing installation: nvidia-cudnn-cu12 9.3.0.75\n",
            "    Uninstalling nvidia-cudnn-cu12-9.3.0.75:\n",
            "      Successfully uninstalled nvidia-cudnn-cu12-9.3.0.75\n",
            "  Attempting uninstall: nvidia-cusolver-cu12\n",
            "    Found existing installation: nvidia-cusolver-cu12 11.6.3.83\n",
            "    Uninstalling nvidia-cusolver-cu12-11.6.3.83:\n",
            "      Successfully uninstalled nvidia-cusolver-cu12-11.6.3.83\n",
            "Successfully installed nvidia-cublas-cu12-12.4.5.8 nvidia-cuda-cupti-cu12-12.4.127 nvidia-cuda-nvrtc-cu12-12.4.127 nvidia-cuda-runtime-cu12-12.4.127 nvidia-cudnn-cu12-9.1.0.70 nvidia-cufft-cu12-11.2.1.3 nvidia-curand-cu12-10.3.5.147 nvidia-cusolver-cu12-11.6.1.9 nvidia-cusparse-cu12-12.3.1.170 nvidia-nvjitlink-cu12-12.4.127\n"
          ]
        }
      ],
      "source": [
        "!pip install torch"
      ]
    },
    {
      "cell_type": "code",
      "source": [
        "!pip install transformers"
      ],
      "metadata": {
        "id": "-BHM4MmIh4SC",
        "colab": {
          "base_uri": "https://localhost:8080/"
        },
        "outputId": "47591e2f-ab69-4871-a228-64a6059a120c"
      },
      "execution_count": null,
      "outputs": [
        {
          "output_type": "stream",
          "name": "stdout",
          "text": [
            "Requirement already satisfied: transformers in /usr/local/lib/python3.11/dist-packages (4.48.3)\n",
            "Requirement already satisfied: filelock in /usr/local/lib/python3.11/dist-packages (from transformers) (3.17.0)\n",
            "Requirement already satisfied: huggingface-hub<1.0,>=0.24.0 in /usr/local/lib/python3.11/dist-packages (from transformers) (0.28.1)\n",
            "Requirement already satisfied: numpy>=1.17 in /usr/local/lib/python3.11/dist-packages (from transformers) (1.26.4)\n",
            "Requirement already satisfied: packaging>=20.0 in /usr/local/lib/python3.11/dist-packages (from transformers) (24.2)\n",
            "Requirement already satisfied: pyyaml>=5.1 in /usr/local/lib/python3.11/dist-packages (from transformers) (6.0.2)\n",
            "Requirement already satisfied: regex!=2019.12.17 in /usr/local/lib/python3.11/dist-packages (from transformers) (2024.11.6)\n",
            "Requirement already satisfied: requests in /usr/local/lib/python3.11/dist-packages (from transformers) (2.32.3)\n",
            "Requirement already satisfied: tokenizers<0.22,>=0.21 in /usr/local/lib/python3.11/dist-packages (from transformers) (0.21.0)\n",
            "Requirement already satisfied: safetensors>=0.4.1 in /usr/local/lib/python3.11/dist-packages (from transformers) (0.5.2)\n",
            "Requirement already satisfied: tqdm>=4.27 in /usr/local/lib/python3.11/dist-packages (from transformers) (4.67.1)\n",
            "Requirement already satisfied: fsspec>=2023.5.0 in /usr/local/lib/python3.11/dist-packages (from huggingface-hub<1.0,>=0.24.0->transformers) (2024.10.0)\n",
            "Requirement already satisfied: typing-extensions>=3.7.4.3 in /usr/local/lib/python3.11/dist-packages (from huggingface-hub<1.0,>=0.24.0->transformers) (4.12.2)\n",
            "Requirement already satisfied: charset-normalizer<4,>=2 in /usr/local/lib/python3.11/dist-packages (from requests->transformers) (3.4.1)\n",
            "Requirement already satisfied: idna<4,>=2.5 in /usr/local/lib/python3.11/dist-packages (from requests->transformers) (3.10)\n",
            "Requirement already satisfied: urllib3<3,>=1.21.1 in /usr/local/lib/python3.11/dist-packages (from requests->transformers) (2.3.0)\n",
            "Requirement already satisfied: certifi>=2017.4.17 in /usr/local/lib/python3.11/dist-packages (from requests->transformers) (2025.1.31)\n"
          ]
        }
      ]
    },
    {
      "cell_type": "code",
      "source": [
        "import numpy as np\n",
        "import pandas as pd"
      ],
      "metadata": {
        "id": "GFxdh-M52uxp"
      },
      "execution_count": null,
      "outputs": []
    },
    {
      "cell_type": "code",
      "source": [
        "import matplotlib.pyplot as plt\n",
        "import seaborn as sns\n",
        "from pylab import rcParams"
      ],
      "metadata": {
        "id": "HxIBDTcu23lv"
      },
      "execution_count": null,
      "outputs": []
    },
    {
      "cell_type": "code",
      "source": [
        "import torch\n",
        "from torch.utils.data import DataLoader, TensorDataset\n",
        "from transformers import BertTokenizer, BertForSequenceClassification, AdamW\n",
        "from sklearn.model_selection import train_test_split\n",
        "from sklearn.metrics import accuracy_score, precision_score, recall_score"
      ],
      "metadata": {
        "id": "0x3PjV4P25-A"
      },
      "execution_count": null,
      "outputs": []
    },
    {
      "cell_type": "code",
      "source": [
        "data = pd.read_csv('/content/sample_data/train.csv')\n",
        "print(data.head())"
      ],
      "metadata": {
        "colab": {
          "base_uri": "https://localhost:8080/"
        },
        "id": "mip7lLZp3b6K",
        "outputId": "56549188-e5a5-4597-c921-535fdb4c9280"
      },
      "execution_count": null,
      "outputs": [
        {
          "output_type": "stream",
          "name": "stdout",
          "text": [
            "                 id                                       comment_text  toxic  \\\n",
            "0  0000997932d777bf  Explanation\\nWhy the edits made under my usern...      0   \n",
            "1  000103f0d9cfb60f  D'aww! He matches this background colour I'm s...      0   \n",
            "2  000113f07ec002fd  Hey man, I'm really not trying to edit war. It...      0   \n",
            "3  0001b41b1c6bb37e  \"\\nMore\\nI can't make any real suggestions on ...      0   \n",
            "4  0001d958c54c6e35  You, sir, are my hero. Any chance you remember...      0   \n",
            "\n",
            "   severe_toxic  obscene  threat  insult  identity_hate  \n",
            "0             0        0       0       0              0  \n",
            "1             0        0       0       0              0  \n",
            "2             0        0       0       0              0  \n",
            "3             0        0       0       0              0  \n",
            "4             0        0       0       0              0  \n"
          ]
        }
      ]
    },
    {
      "cell_type": "code",
      "source": [
        "column_labels = data.columns.tolist()[2:]\n",
        "label_counts = data[column_labels].sum().sort_values()"
      ],
      "metadata": {
        "id": "xXquAAgo3kSf"
      },
      "execution_count": null,
      "outputs": []
    },
    {
      "cell_type": "code",
      "source": [
        "plt.figure(figsize=(7, 5))"
      ],
      "metadata": {
        "colab": {
          "base_uri": "https://localhost:8080/",
          "height": 52
        },
        "id": "4TXguqu-3nMJ",
        "outputId": "735b3590-c69d-4c84-b597-886d45b5c159"
      },
      "execution_count": null,
      "outputs": [
        {
          "output_type": "execute_result",
          "data": {
            "text/plain": [
              "<Figure size 700x500 with 0 Axes>"
            ]
          },
          "metadata": {},
          "execution_count": 9
        },
        {
          "output_type": "display_data",
          "data": {
            "text/plain": [
              "<Figure size 700x500 with 0 Axes>"
            ]
          },
          "metadata": {}
        }
      ]
    },
    {
      "cell_type": "code",
      "source": [
        "ax = sns.barplot(x=label_counts.values,\n",
        "                 y=label_counts.index, palette='viridis')\n",
        "plt.xlabel('Number of Occurrences')\n",
        "plt.ylabel('Labels')\n",
        "plt.title('Distribution of Label Occurrences')\n",
        "plt.show()\n"
      ],
      "metadata": {
        "colab": {
          "base_uri": "https://localhost:8080/",
          "height": 578
        },
        "id": "h5Sb23ok3qdt",
        "outputId": "802522f0-aa18-4d94-ee62-a8a98fc07e22"
      },
      "execution_count": null,
      "outputs": [
        {
          "output_type": "stream",
          "name": "stderr",
          "text": [
            "<ipython-input-10-0cc7780f61e5>:1: FutureWarning: \n",
            "\n",
            "Passing `palette` without assigning `hue` is deprecated and will be removed in v0.14.0. Assign the `y` variable to `hue` and set `legend=False` for the same effect.\n",
            "\n",
            "  ax = sns.barplot(x=label_counts.values,\n"
          ]
        },
        {
          "output_type": "display_data",
          "data": {
            "text/plain": [
              "<Figure size 640x480 with 1 Axes>"
            ],
            "image/png": "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\n"
          },
          "metadata": {}
        }
      ]
    },
    {
      "cell_type": "code",
      "source": [
        "data[column_labels].sum().sort_values()"
      ],
      "metadata": {
        "colab": {
          "base_uri": "https://localhost:8080/",
          "height": 272
        },
        "id": "EhfsN5JW30eB",
        "outputId": "0ef2b975-5ea0-420b-861a-f7eef86da7b9"
      },
      "execution_count": null,
      "outputs": [
        {
          "output_type": "execute_result",
          "data": {
            "text/plain": [
              "threat             478\n",
              "identity_hate     1405\n",
              "severe_toxic      1595\n",
              "insult            7877\n",
              "obscene           8449\n",
              "toxic            15294\n",
              "dtype: int64"
            ],
            "text/html": [
              "<div>\n",
              "<style scoped>\n",
              "    .dataframe tbody tr th:only-of-type {\n",
              "        vertical-align: middle;\n",
              "    }\n",
              "\n",
              "    .dataframe tbody tr th {\n",
              "        vertical-align: top;\n",
              "    }\n",
              "\n",
              "    .dataframe thead th {\n",
              "        text-align: right;\n",
              "    }\n",
              "</style>\n",
              "<table border=\"1\" class=\"dataframe\">\n",
              "  <thead>\n",
              "    <tr style=\"text-align: right;\">\n",
              "      <th></th>\n",
              "      <th>0</th>\n",
              "    </tr>\n",
              "  </thead>\n",
              "  <tbody>\n",
              "    <tr>\n",
              "      <th>threat</th>\n",
              "      <td>478</td>\n",
              "    </tr>\n",
              "    <tr>\n",
              "      <th>identity_hate</th>\n",
              "      <td>1405</td>\n",
              "    </tr>\n",
              "    <tr>\n",
              "      <th>severe_toxic</th>\n",
              "      <td>1595</td>\n",
              "    </tr>\n",
              "    <tr>\n",
              "      <th>insult</th>\n",
              "      <td>7877</td>\n",
              "    </tr>\n",
              "    <tr>\n",
              "      <th>obscene</th>\n",
              "      <td>8449</td>\n",
              "    </tr>\n",
              "    <tr>\n",
              "      <th>toxic</th>\n",
              "      <td>15294</td>\n",
              "    </tr>\n",
              "  </tbody>\n",
              "</table>\n",
              "</div><br><label><b>dtype:</b> int64</label>"
            ]
          },
          "metadata": {},
          "execution_count": 11
        }
      ]
    },
    {
      "cell_type": "code",
      "source": [
        "train_toxic = data[data[column_labels].sum(axis=1) > 0]\n",
        "train_clean = data[data[column_labels].sum(axis=1) == 0]"
      ],
      "metadata": {
        "id": "qMRS8YG-33Sw"
      },
      "execution_count": null,
      "outputs": []
    },
    {
      "cell_type": "code",
      "source": [
        "num_toxic = len(train_toxic)\n",
        "num_clean = len(train_clean)\n"
      ],
      "metadata": {
        "id": "hqzZ1MDB4PES"
      },
      "execution_count": null,
      "outputs": []
    },
    {
      "cell_type": "code",
      "source": [
        "plot_data = pd.DataFrame(\n",
        "    {'Category': ['Toxic', 'Clean'], 'Count': [num_toxic, num_clean]})\n",
        "plt.figure(figsize=(7, 5))\n",
        "ax = sns.barplot(x='Count', y='Category', data=plot_data, palette='viridis')\n",
        "\n",
        "\n",
        "plt.xlabel('Number of Comments')\n",
        "plt.ylabel('Category')\n",
        "plt.title('Distribution of Toxic and Clean Comments')\n",
        "\n",
        "\n",
        "ax.tick_params()\n",
        "\n",
        "plt.show()\n"
      ],
      "metadata": {
        "colab": {
          "base_uri": "https://localhost:8080/",
          "height": 594
        },
        "id": "nBn5Fl8w4Q9W",
        "outputId": "34d109e3-3da3-4c41-e891-47fd940118e9"
      },
      "execution_count": null,
      "outputs": [
        {
          "output_type": "stream",
          "name": "stderr",
          "text": [
            "<ipython-input-14-0b3ce3e5791c>:4: FutureWarning: \n",
            "\n",
            "Passing `palette` without assigning `hue` is deprecated and will be removed in v0.14.0. Assign the `y` variable to `hue` and set `legend=False` for the same effect.\n",
            "\n",
            "  ax = sns.barplot(x='Count', y='Category', data=plot_data, palette='viridis')\n"
          ]
        },
        {
          "output_type": "display_data",
          "data": {
            "text/plain": [
              "<Figure size 700x500 with 1 Axes>"
            ],
            "image/png": "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\n"
          },
          "metadata": {}
        }
      ]
    },
    {
      "cell_type": "code",
      "source": [
        "print(train_toxic.shape)\n",
        "print(train_clean.shape)"
      ],
      "metadata": {
        "colab": {
          "base_uri": "https://localhost:8080/"
        },
        "id": "y8P_-6FG4Tgh",
        "outputId": "eb6ce511-80d4-49cb-f488-cc0d9bf73bfd"
      },
      "execution_count": null,
      "outputs": [
        {
          "output_type": "stream",
          "name": "stdout",
          "text": [
            "(16225, 8)\n",
            "(143346, 8)\n"
          ]
        }
      ]
    },
    {
      "cell_type": "code",
      "source": [
        "\n",
        "train_clean_sampled = train_clean.sample(n=16225, random_state=42)\n",
        "\n",
        "\n",
        "dataframe = pd.concat([train_toxic, train_clean_sampled], axis=0)\n",
        "\n",
        "\n",
        "dataframe = data.sample(frac=1, random_state=42)"
      ],
      "metadata": {
        "id": "yOCavG884dkb"
      },
      "execution_count": null,
      "outputs": []
    },
    {
      "cell_type": "code",
      "source": [
        "print(train_toxic.shape)\n",
        "print(train_clean_sampled.shape)\n",
        "print(dataframe.shape)"
      ],
      "metadata": {
        "colab": {
          "base_uri": "https://localhost:8080/"
        },
        "id": "zTFufsUE4rqh",
        "outputId": "a4e38078-b1ec-4603-d0f7-41d5235cc506"
      },
      "execution_count": null,
      "outputs": [
        {
          "output_type": "stream",
          "name": "stdout",
          "text": [
            "(16225, 8)\n",
            "(16225, 8)\n",
            "(159571, 8)\n"
          ]
        }
      ]
    },
    {
      "cell_type": "markdown",
      "source": [],
      "metadata": {
        "id": "uTgKqP894rcR"
      }
    },
    {
      "cell_type": "code",
      "source": [
        "# Split data into training, testing sets & validation sets\n",
        "train_texts, test_texts, train_labels, test_labels = train_test_split(\n",
        "    dataframe['comment_text'], dataframe.iloc[:, 2:], test_size=0.25, random_state=42)"
      ],
      "metadata": {
        "id": "A4ji_vZg4lBI"
      },
      "execution_count": null,
      "outputs": []
    },
    {
      "cell_type": "code",
      "source": [
        "test_texts, val_texts, test_labels, val_labels = train_test_split(\n",
        "    test_texts, test_labels, test_size=0.5, random_state=42)"
      ],
      "metadata": {
        "id": "MEWQjdpY5CRh"
      },
      "execution_count": null,
      "outputs": []
    },
    {
      "cell_type": "code",
      "source": [
        "# Token and Encode Function\n",
        "def tokenize_and_encode(tokenizer, comments, labels, max_length=128):\n",
        "    # Initialize empty lists to store tokenized inputs and attention masks\n",
        "    input_ids = []\n",
        "    attention_masks = []\n",
        "\n",
        "    # Iterate through each comment in the 'comments' list\n",
        "    for comment in comments:\n",
        "\n",
        "        # Tokenize and encode the comment using the BERT tokenizer\n",
        "        encoded_dict = tokenizer.encode_plus(\n",
        "            comment,\n",
        "\n",
        "            # Add special tokens like [CLS] and [SEP]\n",
        "            add_special_tokens=True,\n",
        "\n",
        "            # Truncate or pad the comment to 'max_length'\n",
        "            max_length=max_length,\n",
        "\n",
        "            # Pad the comment to 'max_length' with zeros if needed\n",
        "            pad_to_max_length=True,\n",
        "\n",
        "            # Return attention mask to mask padded tokens\n",
        "            return_attention_mask=True,\n",
        "\n",
        "            # Return PyTorch tensors\n",
        "            return_tensors='pt'\n",
        "        )\n",
        "\n",
        "        # Append the tokenized input and attention mask to their respective lists\n",
        "        input_ids.append(encoded_dict['input_ids'])\n",
        "        attention_masks.append(encoded_dict['attention_mask'])\n",
        "\n",
        "    # Concatenate the tokenized inputs and attention masks into tensors\n",
        "    input_ids = torch.cat(input_ids, dim=0)\n",
        "    attention_masks = torch.cat(attention_masks, dim=0)\n",
        "\n",
        "    # Convert the labels to a PyTorch tensor with the data type float32\n",
        "    labels = torch.tensor(labels, dtype=torch.float32)\n",
        "\n",
        "    # Return the tokenized inputs, attention masks, and labels as PyTorch tensors\n",
        "    return input_ids, attention_masks, labels"
      ],
      "metadata": {
        "id": "W6PYFP-J5E5x"
      },
      "execution_count": null,
      "outputs": []
    },
    {
      "cell_type": "code",
      "source": [
        "tokenizer = BertTokenizer.from_pretrained('bert-base-uncased',\n",
        "                                          do_lower_case=True)"
      ],
      "metadata": {
        "colab": {
          "base_uri": "https://localhost:8080/",
          "height": 269,
          "referenced_widgets": [
            "8dc9df6b6bc84b00aed007c31ab893b1",
            "e41229c233cc43f29f2d73442e063898",
            "13abd8070f744ea6b79e8c23d06b3e65",
            "dd1f896bde754f9b968aec6bf7d8b66b",
            "2013f82dd23643bfa6a5335a6d24a883",
            "130735a6079f4f18b79048cb83115161",
            "50d15ea8c2d34d459d5fadbfa11d707c",
            "8f25aafe0f55481bbe050dd469786c21",
            "6300d570877347d186afb0936a98f70a",
            "d4ddbf9af5c544a2ac3bca06df976bde",
            "c5f24ca491d14953add2a51eb8854503",
            "61428a2a3e914bacb120b7a88aa04301",
            "ad8b6c05b657456eb5fb91ccc2dd3032",
            "158d65216c424a478cb98db9c02d4c3c",
            "8d075680fc5c448a841437a2fa3ed7f0",
            "86b2a229acb840fc83170d2a26e2aa6c",
            "f0f7fba10ab24d69a11ca084be5577ef",
            "198192fd178b4fe98f7161a13f9b1c19",
            "fcf780817cb74078a2f83d77235ef870",
            "cb1cc66d60714b9cbde5838de149b69c",
            "6a56e27c85c743228d54a34518b4be4d",
            "4ee3047cb4b144719bd4bcee5edab9c5",
            "b4952bcbf3eb4511a1ebf40205c271de",
            "8b6aa0add9474fd0987027d64b93862b",
            "5f47b30e5afa4c589fd43fe7dd258552",
            "417d99ebb85442528d5638e269a4417b",
            "03f7e6b4a9744aa7bc9710b8a8f9c8ca",
            "30ad186ca39e49528dfea1d92ffc1f82",
            "dd2b8ad203e34092b74294e117cfc92a",
            "dd987d6a24a84b96897f4c7a07aeefaa",
            "e87ced5a1ce840c2a88cc3bb43e794b3",
            "ebbfc42c8a254bb88cde55301944e0de",
            "1a3e306df1544ef6ad034c5bbdc14958",
            "10efda4f0464409ea45fdd04d78a2f6e",
            "4a780796e9b34aa5b1a44fa64efd3af1",
            "8506fc0c6f0d4967b25aca44393cbdb5",
            "9f5219289a9c4a6d8388c36a7d731ca1",
            "9cbe07c3ed01415c9c06b4d3c80a66ae",
            "beab6c6ba0c0428880ff29e34da069e4",
            "67d54d9346da42f3bb4983aa1988fbdd",
            "03a9205d36914fe0852ec4384650f8e6",
            "dd83c3f944624eb4b3ade8102ec4e9f3",
            "63e23a80826640ea8c6ad8732da26637",
            "82b53e71ff1e425fa8d9a8f5f4e3e3ac"
          ]
        },
        "id": "5AgWxg665Ikt",
        "outputId": "cb3f4f94-80a8-438a-b3a0-23723668136f"
      },
      "execution_count": null,
      "outputs": [
        {
          "output_type": "stream",
          "name": "stderr",
          "text": [
            "/usr/local/lib/python3.11/dist-packages/huggingface_hub/utils/_auth.py:94: UserWarning: \n",
            "The secret `HF_TOKEN` does not exist in your Colab secrets.\n",
            "To authenticate with the Hugging Face Hub, create a token in your settings tab (https://huggingface.co/settings/tokens), set it as secret in your Google Colab and restart your session.\n",
            "You will be able to reuse this secret in all of your notebooks.\n",
            "Please note that authentication is recommended but still optional to access public models or datasets.\n",
            "  warnings.warn(\n"
          ]
        },
        {
          "output_type": "display_data",
          "data": {
            "text/plain": [
              "tokenizer_config.json:   0%|          | 0.00/48.0 [00:00<?, ?B/s]"
            ],
            "application/vnd.jupyter.widget-view+json": {
              "version_major": 2,
              "version_minor": 0,
              "model_id": "8dc9df6b6bc84b00aed007c31ab893b1"
            }
          },
          "metadata": {}
        },
        {
          "output_type": "display_data",
          "data": {
            "text/plain": [
              "vocab.txt:   0%|          | 0.00/232k [00:00<?, ?B/s]"
            ],
            "application/vnd.jupyter.widget-view+json": {
              "version_major": 2,
              "version_minor": 0,
              "model_id": "61428a2a3e914bacb120b7a88aa04301"
            }
          },
          "metadata": {}
        },
        {
          "output_type": "display_data",
          "data": {
            "text/plain": [
              "tokenizer.json:   0%|          | 0.00/466k [00:00<?, ?B/s]"
            ],
            "application/vnd.jupyter.widget-view+json": {
              "version_major": 2,
              "version_minor": 0,
              "model_id": "b4952bcbf3eb4511a1ebf40205c271de"
            }
          },
          "metadata": {}
        },
        {
          "output_type": "display_data",
          "data": {
            "text/plain": [
              "config.json:   0%|          | 0.00/570 [00:00<?, ?B/s]"
            ],
            "application/vnd.jupyter.widget-view+json": {
              "version_major": 2,
              "version_minor": 0,
              "model_id": "10efda4f0464409ea45fdd04d78a2f6e"
            }
          },
          "metadata": {}
        }
      ]
    },
    {
      "cell_type": "code",
      "source": [
        "model = BertForSequenceClassification.from_pretrained('bert-base-uncased',\n",
        "                                                      num_labels=6)"
      ],
      "metadata": {
        "colab": {
          "base_uri": "https://localhost:8080/",
          "height": 104,
          "referenced_widgets": [
            "3b0178cef3794c7dbeec8ecbdbdd5f98",
            "f76003c428874993b524482d149a7ffc",
            "0705dad19f3244a5ae99783fe3999cc1",
            "6d7026d6811f4859a599d471572e19e4",
            "229fb6aeb285411aafed37b09f9f5f54",
            "2b5a3a942d7a4999a4be84d961044b30",
            "0a26c6fab89948ad9f446f2cb4a72e6f",
            "ce4834929f904084862da6fe7f2ea572",
            "56ae0354ab59407b96a86467fde39297",
            "57cd7e4c2aa74dbb8ce007d983e44dda",
            "8a3bb642039543ba8f7ab2da0d7f648c"
          ]
        },
        "id": "ecEC4-Lu5Lsr",
        "outputId": "b26aa16d-0b8c-4f01-fffc-be17957307b6"
      },
      "execution_count": null,
      "outputs": [
        {
          "output_type": "display_data",
          "data": {
            "text/plain": [
              "model.safetensors:   0%|          | 0.00/440M [00:00<?, ?B/s]"
            ],
            "application/vnd.jupyter.widget-view+json": {
              "version_major": 2,
              "version_minor": 0,
              "model_id": "3b0178cef3794c7dbeec8ecbdbdd5f98"
            }
          },
          "metadata": {}
        },
        {
          "output_type": "stream",
          "name": "stderr",
          "text": [
            "Some weights of BertForSequenceClassification were not initialized from the model checkpoint at bert-base-uncased and are newly initialized: ['classifier.bias', 'classifier.weight']\n",
            "You should probably TRAIN this model on a down-stream task to be able to use it for predictions and inference.\n"
          ]
        }
      ]
    },
    {
      "cell_type": "code",
      "source": [
        "# Move model to GPU if available\n",
        "device = torch.device(\n",
        "    'cuda') if torch.cuda.is_available() else torch.device('cpu')\n",
        "model = model.to(device)"
      ],
      "metadata": {
        "id": "wHvM9smV5PqN"
      },
      "execution_count": null,
      "outputs": []
    },
    {
      "cell_type": "code",
      "source": [
        "# Tokenize and Encode the comments and labels for the training set\n",
        "input_ids, attention_masks, labels = tokenize_and_encode(\n",
        "    tokenizer,\n",
        "    train_texts,\n",
        "    train_labels.values\n",
        ")\n",
        "\n",
        "# Tokenize and Encode the comments and labels for the test set\n",
        "test_input_ids, test_attention_masks, test_labels = tokenize_and_encode(\n",
        "    tokenizer,\n",
        "    test_texts,\n",
        "    test_labels.values\n",
        ")\n",
        "\n",
        "# Tokenize and Encode the comments and labels for the validation set\n",
        "val_input_ids, val_attention_masks, val_labels = tokenize_and_encode(\n",
        "    tokenizer,\n",
        "    val_texts,\n",
        "    val_labels.values\n",
        ")\n",
        "\n",
        "\n",
        "print('Training Comments :',train_texts.shape)\n",
        "print('Input Ids         :',input_ids.shape)\n",
        "print('Attention Mask    :',attention_masks.shape)\n",
        "print('Labels            :',labels.shape)"
      ],
      "metadata": {
        "colab": {
          "base_uri": "https://localhost:8080/"
        },
        "id": "9weUA9rn5Tyi",
        "outputId": "3e8301c7-e77c-4b9d-c87e-d17ec6113f50"
      },
      "execution_count": null,
      "outputs": [
        {
          "output_type": "stream",
          "name": "stderr",
          "text": [
            "Truncation was not explicitly activated but `max_length` is provided a specific value, please use `truncation=True` to explicitly truncate examples to max length. Defaulting to 'longest_first' truncation strategy. If you encode pairs of sequences (GLUE-style) with the tokenizer you can select this strategy more precisely by providing a specific strategy to `truncation`.\n",
            "/usr/local/lib/python3.11/dist-packages/transformers/tokenization_utils_base.py:2681: FutureWarning: The `pad_to_max_length` argument is deprecated and will be removed in a future version, use `padding=True` or `padding='longest'` to pad to the longest sequence in the batch, or use `padding='max_length'` to pad to a max length. In this case, you can give a specific length with `max_length` (e.g. `max_length=45`) or leave max_length to None to pad to the maximal input size of the model (e.g. 512 for Bert).\n",
            "  warnings.warn(\n"
          ]
        },
        {
          "output_type": "stream",
          "name": "stdout",
          "text": [
            "Training Comments : (119678,)\n",
            "Input Ids         : torch.Size([119678, 128])\n",
            "Attention Mask    : torch.Size([119678, 128])\n",
            "Labels            : torch.Size([119678, 6])\n"
          ]
        }
      ]
    },
    {
      "cell_type": "code",
      "source": [
        "k = 53\n",
        "print('Training Comments -->>',train_texts.values[k])\n",
        "print('\\nInput Ids -->>\\n',input_ids[k])\n",
        "print('\\nDecoded Ids -->>\\n',tokenizer.decode(input_ids[k]))\n",
        "print('\\nAttention Mask -->>\\n',attention_masks[k])\n",
        "print('\\nLabels -->>',labels[k])"
      ],
      "metadata": {
        "colab": {
          "base_uri": "https://localhost:8080/"
        },
        "id": "rJDv-Gmm5W9h",
        "outputId": "bbfadab4-0524-45e9-d7e2-6a5c39d8d368"
      },
      "execution_count": null,
      "outputs": [
        {
          "output_type": "stream",
          "name": "stdout",
          "text": [
            "Training Comments -->> \"Manually.    Ping me \n",
            "\n",
            "\"\n",
            "\n",
            "Input Ids -->>\n",
            " tensor([  101,  1000, 21118,  1012, 17852,  2033,  1000,   102,     0,     0,\n",
            "            0,     0,     0,     0,     0,     0,     0,     0,     0,     0,\n",
            "            0,     0,     0,     0,     0,     0,     0,     0,     0,     0,\n",
            "            0,     0,     0,     0,     0,     0,     0,     0,     0,     0,\n",
            "            0,     0,     0,     0,     0,     0,     0,     0,     0,     0,\n",
            "            0,     0,     0,     0,     0,     0,     0,     0,     0,     0,\n",
            "            0,     0,     0,     0,     0,     0,     0,     0,     0,     0,\n",
            "            0,     0,     0,     0,     0,     0,     0,     0,     0,     0,\n",
            "            0,     0,     0,     0,     0,     0,     0,     0,     0,     0,\n",
            "            0,     0,     0,     0,     0,     0,     0,     0,     0,     0,\n",
            "            0,     0,     0,     0,     0,     0,     0,     0,     0,     0,\n",
            "            0,     0,     0,     0,     0,     0,     0,     0,     0,     0,\n",
            "            0,     0,     0,     0,     0,     0,     0,     0])\n",
            "\n",
            "Decoded Ids -->>\n",
            " [CLS] \" manually. ping me \" [SEP] [PAD] [PAD] [PAD] [PAD] [PAD] [PAD] [PAD] [PAD] [PAD] [PAD] [PAD] [PAD] [PAD] [PAD] [PAD] [PAD] [PAD] [PAD] [PAD] [PAD] [PAD] [PAD] [PAD] [PAD] [PAD] [PAD] [PAD] [PAD] [PAD] [PAD] [PAD] [PAD] [PAD] [PAD] [PAD] [PAD] [PAD] [PAD] [PAD] [PAD] [PAD] [PAD] [PAD] [PAD] [PAD] [PAD] [PAD] [PAD] [PAD] [PAD] [PAD] [PAD] [PAD] [PAD] [PAD] [PAD] [PAD] [PAD] [PAD] [PAD] [PAD] [PAD] [PAD] [PAD] [PAD] [PAD] [PAD] [PAD] [PAD] [PAD] [PAD] [PAD] [PAD] [PAD] [PAD] [PAD] [PAD] [PAD] [PAD] [PAD] [PAD] [PAD] [PAD] [PAD] [PAD] [PAD] [PAD] [PAD] [PAD] [PAD] [PAD] [PAD] [PAD] [PAD] [PAD] [PAD] [PAD] [PAD] [PAD] [PAD] [PAD] [PAD] [PAD] [PAD] [PAD] [PAD] [PAD] [PAD] [PAD] [PAD] [PAD] [PAD] [PAD] [PAD] [PAD] [PAD] [PAD] [PAD] [PAD] [PAD]\n",
            "\n",
            "Attention Mask -->>\n",
            " tensor([1, 1, 1, 1, 1, 1, 1, 1, 0, 0, 0, 0, 0, 0, 0, 0, 0, 0, 0, 0, 0, 0, 0, 0,\n",
            "        0, 0, 0, 0, 0, 0, 0, 0, 0, 0, 0, 0, 0, 0, 0, 0, 0, 0, 0, 0, 0, 0, 0, 0,\n",
            "        0, 0, 0, 0, 0, 0, 0, 0, 0, 0, 0, 0, 0, 0, 0, 0, 0, 0, 0, 0, 0, 0, 0, 0,\n",
            "        0, 0, 0, 0, 0, 0, 0, 0, 0, 0, 0, 0, 0, 0, 0, 0, 0, 0, 0, 0, 0, 0, 0, 0,\n",
            "        0, 0, 0, 0, 0, 0, 0, 0, 0, 0, 0, 0, 0, 0, 0, 0, 0, 0, 0, 0, 0, 0, 0, 0,\n",
            "        0, 0, 0, 0, 0, 0, 0, 0])\n",
            "\n",
            "Labels -->> tensor([0., 0., 0., 0., 0., 0.])\n"
          ]
        }
      ]
    },
    {
      "cell_type": "code",
      "source": [
        "batch_size = 32\n",
        "train_dataset = TensorDataset(input_ids, attention_masks, labels)\n",
        "train_loader = DataLoader(train_dataset, batch_size=batch_size, shuffle=True)\n",
        "\n",
        "# testing set\n",
        "test_dataset = TensorDataset(test_input_ids, test_attention_masks, test_labels)\n",
        "test_loader = DataLoader(test_dataset, batch_size=batch_size, shuffle=False)\n",
        "\n",
        "# validation set\n",
        "val_dataset = TensorDataset(val_input_ids, val_attention_masks, val_labels)\n",
        "val_loader = DataLoader(val_dataset, batch_size=batch_size, shuffle=False)"
      ],
      "metadata": {
        "id": "pT1si4LB6snA"
      },
      "execution_count": null,
      "outputs": []
    },
    {
      "cell_type": "code",
      "source": [
        "print('Batch Size :',train_loader.batch_size)\n",
        "Batch =next(iter(train_loader))\n",
        "print('Each Input ids shape :',Batch[0].shape)\n",
        "print('Input ids :\\n',Batch[0][0])\n",
        "print('Corresponding Decoded text:\\n',tokenizer.decode(Batch[0][0]))\n",
        "print('Corresponding Attention Mask :\\n',Batch[1][0])\n",
        "print('Corresponding Label:',Batch[2][0])"
      ],
      "metadata": {
        "colab": {
          "base_uri": "https://localhost:8080/"
        },
        "id": "Zv6wysRl6x8Y",
        "outputId": "26d0bde9-b5b1-4256-ed89-7c2d79b31b1a"
      },
      "execution_count": null,
      "outputs": [
        {
          "output_type": "stream",
          "name": "stdout",
          "text": [
            "Batch Size : 32\n",
            "Each Input ids shape : torch.Size([32, 128])\n",
            "Input ids :\n",
            " tensor([  101,  6616,  2125,  2017, 12731,  3372,  1012,  1045,  2113,  1037,\n",
            "         2843,  2062,  2055, 13259,  2084,  2017,  1012,  2123,  1005,  1056,\n",
            "         2202,  2041, 14964,  4933,  2030,  2842,  1012,   102,     0,     0,\n",
            "            0,     0,     0,     0,     0,     0,     0,     0,     0,     0,\n",
            "            0,     0,     0,     0,     0,     0,     0,     0,     0,     0,\n",
            "            0,     0,     0,     0,     0,     0,     0,     0,     0,     0,\n",
            "            0,     0,     0,     0,     0,     0,     0,     0,     0,     0,\n",
            "            0,     0,     0,     0,     0,     0,     0,     0,     0,     0,\n",
            "            0,     0,     0,     0,     0,     0,     0,     0,     0,     0,\n",
            "            0,     0,     0,     0,     0,     0,     0,     0,     0,     0,\n",
            "            0,     0,     0,     0,     0,     0,     0,     0,     0,     0,\n",
            "            0,     0,     0,     0,     0,     0,     0,     0,     0,     0,\n",
            "            0,     0,     0,     0,     0,     0,     0,     0])\n",
            "Corresponding Decoded text:\n",
            " [CLS] fuck off you cunt. i know a lot more about flynn than you. don't take out referenced stuff or else. [SEP] [PAD] [PAD] [PAD] [PAD] [PAD] [PAD] [PAD] [PAD] [PAD] [PAD] [PAD] [PAD] [PAD] [PAD] [PAD] [PAD] [PAD] [PAD] [PAD] [PAD] [PAD] [PAD] [PAD] [PAD] [PAD] [PAD] [PAD] [PAD] [PAD] [PAD] [PAD] [PAD] [PAD] [PAD] [PAD] [PAD] [PAD] [PAD] [PAD] [PAD] [PAD] [PAD] [PAD] [PAD] [PAD] [PAD] [PAD] [PAD] [PAD] [PAD] [PAD] [PAD] [PAD] [PAD] [PAD] [PAD] [PAD] [PAD] [PAD] [PAD] [PAD] [PAD] [PAD] [PAD] [PAD] [PAD] [PAD] [PAD] [PAD] [PAD] [PAD] [PAD] [PAD] [PAD] [PAD] [PAD] [PAD] [PAD] [PAD] [PAD] [PAD] [PAD] [PAD] [PAD] [PAD] [PAD] [PAD] [PAD] [PAD] [PAD] [PAD] [PAD] [PAD] [PAD] [PAD] [PAD] [PAD] [PAD] [PAD] [PAD]\n",
            "Corresponding Attention Mask :\n",
            " tensor([1, 1, 1, 1, 1, 1, 1, 1, 1, 1, 1, 1, 1, 1, 1, 1, 1, 1, 1, 1, 1, 1, 1, 1,\n",
            "        1, 1, 1, 1, 0, 0, 0, 0, 0, 0, 0, 0, 0, 0, 0, 0, 0, 0, 0, 0, 0, 0, 0, 0,\n",
            "        0, 0, 0, 0, 0, 0, 0, 0, 0, 0, 0, 0, 0, 0, 0, 0, 0, 0, 0, 0, 0, 0, 0, 0,\n",
            "        0, 0, 0, 0, 0, 0, 0, 0, 0, 0, 0, 0, 0, 0, 0, 0, 0, 0, 0, 0, 0, 0, 0, 0,\n",
            "        0, 0, 0, 0, 0, 0, 0, 0, 0, 0, 0, 0, 0, 0, 0, 0, 0, 0, 0, 0, 0, 0, 0, 0,\n",
            "        0, 0, 0, 0, 0, 0, 0, 0])\n",
            "Corresponding Label: tensor([1., 0., 1., 0., 1., 0.])\n"
          ]
        }
      ]
    },
    {
      "cell_type": "code",
      "source": [
        "optimizer = AdamW(model.parameters(), lr=2e-5)"
      ],
      "metadata": {
        "colab": {
          "base_uri": "https://localhost:8080/"
        },
        "id": "ygKm8bR360jU",
        "outputId": "80314d48-854e-4782-e605-55397829d540"
      },
      "execution_count": null,
      "outputs": [
        {
          "output_type": "stream",
          "name": "stderr",
          "text": [
            "/usr/local/lib/python3.11/dist-packages/transformers/optimization.py:591: FutureWarning: This implementation of AdamW is deprecated and will be removed in a future version. Use the PyTorch implementation torch.optim.AdamW instead, or set `no_deprecation_warning=True` to disable this warning\n",
            "  warnings.warn(\n"
          ]
        }
      ]
    },
    {
      "cell_type": "code",
      "source": [
        "def train_model(model, train_loader, optimizer, device, num_epochs):\n",
        "    # Loop through the specified number of epochs\n",
        "    for epoch in range(num_epochs):\n",
        "        # Set the model to training mode\n",
        "        model.train()\n",
        "        # Initialize total loss for the current epoch\n",
        "        total_loss = 0\n",
        "\n",
        "        # Loop through the batches in the training data\n",
        "        for batch in train_loader:\n",
        "            input_ids, attention_mask, labels = [t.to(device) for t in batch]\n",
        "\n",
        "            optimizer.zero_grad()\n",
        "\n",
        "            outputs = model(\n",
        "                input_ids, attention_mask=attention_mask, labels=labels)\n",
        "            loss = outputs.loss\n",
        "            total_loss += loss.item()\n",
        "\n",
        "            loss.backward()\n",
        "            optimizer.step()\n",
        "\n",
        "        model.eval()  # Set the model to evaluation mode\n",
        "        val_loss = 0\n",
        "\n",
        "        # Disable gradient computation during validation\n",
        "        with torch.no_grad():\n",
        "            for batch in val_loader:\n",
        "                input_ids, attention_mask, labels = [\n",
        "                    t.to(device) for t in batch]\n",
        "\n",
        "                outputs = model(\n",
        "                    input_ids, attention_mask=attention_mask, labels=labels)\n",
        "                loss = outputs.loss\n",
        "                val_loss += loss.item()\n",
        "        # Print the average loss for the current epoch\n",
        "        print(\n",
        "            f'Epoch {epoch+1}, Training Loss: {total_loss/len(train_loader)},Validation loss:{val_loss/len(val_loader)}')\n",
        "\n",
        "\n",
        "# Call the function to train the model\n",
        "train_model(model, train_loader, optimizer, device, num_epochs=3)"
      ],
      "metadata": {
        "id": "blfbOQrT69Qb"
      },
      "execution_count": null,
      "outputs": []
    },
    {
      "cell_type": "code",
      "source": [
        "# Evaluate the Model\n",
        "def evaluate_model(model, test_loader, device):\n",
        "    model.eval()  # Set the model to evaluation mode\n",
        "\n",
        "    true_labels = []\n",
        "    predicted_probs = []\n",
        "\n",
        "    with torch.no_grad():\n",
        "        for batch in test_loader:\n",
        "            input_ids, attention_mask, labels = [t.to(device) for t in batch]\n",
        "\n",
        "            # Get model's predictions\n",
        "            outputs = model(input_ids, attention_mask=attention_mask)\n",
        "            # Use sigmoid for multilabel classification\n",
        "            predicted_probs_batch = torch.sigmoid(outputs.logits)\n",
        "            predicted_probs.append(predicted_probs_batch.cpu().numpy())\n",
        "\n",
        "            true_labels_batch = labels.cpu().numpy()\n",
        "            true_labels.append(true_labels_batch)\n",
        "\n",
        "    # Combine predictions and labels for evaluation\n",
        "    true_labels = np.concatenate(true_labels, axis=0)\n",
        "    predicted_probs = np.concatenate(predicted_probs, axis=0)\n",
        "    predicted_labels = (predicted_probs > 0.5).astype(\n",
        "        int)  # Apply threshold for binary classification\n",
        "\n",
        "    # Calculate evaluation metrics\n",
        "    accuracy = accuracy_score(true_labels, predicted_labels)\n",
        "    precision = precision_score(true_labels, predicted_labels, average='micro')\n",
        "    recall = recall_score(true_labels, predicted_labels, average='micro')\n",
        "\n",
        "    # Print the evaluation metrics\n",
        "    print(f'Accuracy: {accuracy:.4f}')\n",
        "    print(f'Precision: {precision:.4f}')\n",
        "    print(f'Recall: {recall:.4f}')\n",
        "\n",
        "\n",
        "# Call the function to evaluate the model on the test data\n",
        "evaluate_model(model, test_loader, device)"
      ],
      "metadata": {
        "id": "iz1UOunB7BkN"
      },
      "execution_count": null,
      "outputs": []
    },
    {
      "cell_type": "code",
      "source": [
        "# Save the tokenizer and model in the same directory\n",
        "output_dir = \"Saved_model\"\n",
        "# Save model's state dictionary and configuration\n",
        "model.save_pretrained(output_dir)\n",
        "# Save tokenizer's configuration and vocabulary\n",
        "tokenizer.save_pretrained(output_dir)"
      ],
      "metadata": {
        "id": "91lG1AECBhTd"
      },
      "execution_count": null,
      "outputs": []
    },
    {
      "cell_type": "code",
      "source": [],
      "metadata": {
        "id": "9dmBFEamBlZl"
      },
      "execution_count": null,
      "outputs": []
    }
  ]
}
